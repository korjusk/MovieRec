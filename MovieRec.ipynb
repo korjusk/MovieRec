{
 "cells": [
  {
   "cell_type": "markdown",
   "metadata": {},
   "source": [
    "# MovieRec"
   ]
  },
  {
   "cell_type": "markdown",
   "metadata": {},
   "source": [
    "In this notebook, I'll build a deep learning model movie recommendations system on the MovieLens 20M dataset. [More info](https://github.com/korjusk/MovieRec)"
   ]
  },
  {
   "cell_type": "code",
   "execution_count": 1,
   "metadata": {},
   "outputs": [],
   "source": [
    "from fastai import *\n",
    "from fastai.collab import *\n",
    "from fastai.tabular import *"
   ]
  },
  {
   "cell_type": "markdown",
   "metadata": {},
   "source": [
    "### Loading MovieLens 20m dataset\n",
    "Download [link](http://files.grouplens.org/datasets/movielens/ml-20m.zip) and dataset [readme.](http://files.grouplens.org/datasets/movielens/ml-20m-README.html)  \n",
    "  \n",
    "MovieLens ratings are made on a 5-star scale, with half-star increments (0.5 stars - 5.0 stars).  \n",
    "IMDb ratings are made on a 10-star scale (1 stars - 10 stars)."
   ]
  },
  {
   "cell_type": "code",
   "execution_count": 13,
   "metadata": {
    "scrolled": true
   },
   "outputs": [
    {
     "name": "stdout",
     "output_type": "stream",
     "text": [
      "README.txt\t   genome-tags.csv  movies.csv\t tags.csv\r\n",
      "genome-scores.csv  links.csv\t    ratings.csv\r\n"
     ]
    }
   ],
   "source": [
    "path = 'data/'\n",
    "ml20 = path + 'ml-20m/' \n",
    "!ls {ml20}"
   ]
  },
  {
   "cell_type": "markdown",
   "metadata": {},
   "source": [
    "#### ratings.csv"
   ]
  },
  {
   "cell_type": "code",
   "execution_count": 89,
   "metadata": {},
   "outputs": [
    {
     "name": "stdout",
     "output_type": "stream",
     "text": [
      "Size: 20000263\n"
     ]
    },
    {
     "data": {
      "text/html": [
       "<div>\n",
       "<style scoped>\n",
       "    .dataframe tbody tr th:only-of-type {\n",
       "        vertical-align: middle;\n",
       "    }\n",
       "\n",
       "    .dataframe tbody tr th {\n",
       "        vertical-align: top;\n",
       "    }\n",
       "\n",
       "    .dataframe thead th {\n",
       "        text-align: right;\n",
       "    }\n",
       "</style>\n",
       "<table border=\"1\" class=\"dataframe\">\n",
       "  <thead>\n",
       "    <tr style=\"text-align: right;\">\n",
       "      <th></th>\n",
       "      <th>userId</th>\n",
       "      <th>movieId</th>\n",
       "      <th>rating</th>\n",
       "      <th>timestamp</th>\n",
       "    </tr>\n",
       "  </thead>\n",
       "  <tbody>\n",
       "    <tr>\n",
       "      <th>0</th>\n",
       "      <td>1</td>\n",
       "      <td>2</td>\n",
       "      <td>3.5</td>\n",
       "      <td>1112486027</td>\n",
       "    </tr>\n",
       "    <tr>\n",
       "      <th>1</th>\n",
       "      <td>1</td>\n",
       "      <td>29</td>\n",
       "      <td>3.5</td>\n",
       "      <td>1112484676</td>\n",
       "    </tr>\n",
       "  </tbody>\n",
       "</table>\n",
       "</div>"
      ],
      "text/plain": [
       "   userId  movieId  rating   timestamp\n",
       "0       1        2     3.5  1112486027\n",
       "1       1       29     3.5  1112484676"
      ]
     },
     "execution_count": 89,
     "metadata": {},
     "output_type": "execute_result"
    }
   ],
   "source": [
    "ratings = pd.read_csv(ml20 + 'ratings.csv', encoding='latin-1')\n",
    "print('Size:', len(ratings))\n",
    "ratings.head(2)"
   ]
  },
  {
   "cell_type": "markdown",
   "metadata": {},
   "source": [
    "#### movies.csv"
   ]
  },
  {
   "cell_type": "code",
   "execution_count": 14,
   "metadata": {},
   "outputs": [
    {
     "name": "stdout",
     "output_type": "stream",
     "text": [
      "Size: 27278\n"
     ]
    },
    {
     "data": {
      "text/html": [
       "<div>\n",
       "<style scoped>\n",
       "    .dataframe tbody tr th:only-of-type {\n",
       "        vertical-align: middle;\n",
       "    }\n",
       "\n",
       "    .dataframe tbody tr th {\n",
       "        vertical-align: top;\n",
       "    }\n",
       "\n",
       "    .dataframe thead th {\n",
       "        text-align: right;\n",
       "    }\n",
       "</style>\n",
       "<table border=\"1\" class=\"dataframe\">\n",
       "  <thead>\n",
       "    <tr style=\"text-align: right;\">\n",
       "      <th></th>\n",
       "      <th>movieId</th>\n",
       "      <th>title</th>\n",
       "      <th>genres</th>\n",
       "    </tr>\n",
       "  </thead>\n",
       "  <tbody>\n",
       "    <tr>\n",
       "      <th>0</th>\n",
       "      <td>1</td>\n",
       "      <td>Toy Story (1995)</td>\n",
       "      <td>Adventure|Animation|Children|Comedy|Fantasy</td>\n",
       "    </tr>\n",
       "    <tr>\n",
       "      <th>1</th>\n",
       "      <td>2</td>\n",
       "      <td>Jumanji (1995)</td>\n",
       "      <td>Adventure|Children|Fantasy</td>\n",
       "    </tr>\n",
       "  </tbody>\n",
       "</table>\n",
       "</div>"
      ],
      "text/plain": [
       "   movieId             title                                       genres\n",
       "0        1  Toy Story (1995)  Adventure|Animation|Children|Comedy|Fantasy\n",
       "1        2    Jumanji (1995)                   Adventure|Children|Fantasy"
      ]
     },
     "execution_count": 14,
     "metadata": {},
     "output_type": "execute_result"
    }
   ],
   "source": [
    "movies = pd.read_csv(ml20 + 'movies.csv', encoding='latin-1')\n",
    "print('Size:', len(movies))\n",
    "movies.head(2)"
   ]
  },
  {
   "cell_type": "markdown",
   "metadata": {},
   "source": [
    "#### links.csv"
   ]
  },
  {
   "cell_type": "code",
   "execution_count": 92,
   "metadata": {},
   "outputs": [
    {
     "name": "stdout",
     "output_type": "stream",
     "text": [
      "Size: 27278\n"
     ]
    },
    {
     "data": {
      "text/html": [
       "<div>\n",
       "<style scoped>\n",
       "    .dataframe tbody tr th:only-of-type {\n",
       "        vertical-align: middle;\n",
       "    }\n",
       "\n",
       "    .dataframe tbody tr th {\n",
       "        vertical-align: top;\n",
       "    }\n",
       "\n",
       "    .dataframe thead th {\n",
       "        text-align: right;\n",
       "    }\n",
       "</style>\n",
       "<table border=\"1\" class=\"dataframe\">\n",
       "  <thead>\n",
       "    <tr style=\"text-align: right;\">\n",
       "      <th></th>\n",
       "      <th>movieId</th>\n",
       "      <th>imdbId</th>\n",
       "      <th>tmdbId</th>\n",
       "    </tr>\n",
       "  </thead>\n",
       "  <tbody>\n",
       "    <tr>\n",
       "      <th>0</th>\n",
       "      <td>1</td>\n",
       "      <td>114709</td>\n",
       "      <td>862.0</td>\n",
       "    </tr>\n",
       "    <tr>\n",
       "      <th>1</th>\n",
       "      <td>2</td>\n",
       "      <td>113497</td>\n",
       "      <td>8844.0</td>\n",
       "    </tr>\n",
       "  </tbody>\n",
       "</table>\n",
       "</div>"
      ],
      "text/plain": [
       "   movieId  imdbId  tmdbId\n",
       "0        1  114709   862.0\n",
       "1        2  113497  8844.0"
      ]
     },
     "execution_count": 92,
     "metadata": {},
     "output_type": "execute_result"
    }
   ],
   "source": [
    "links = pd.read_csv(ml20 + 'links.csv', encoding='latin-1')\n",
    "print('Size:', len(links))\n",
    "links.head(2)"
   ]
  },
  {
   "cell_type": "markdown",
   "metadata": {},
   "source": [
    "### Loading my [IMDb ratings](https://www.imdb.com/user/ur15834927/ratings)"
   ]
  },
  {
   "cell_type": "code",
   "execution_count": 85,
   "metadata": {},
   "outputs": [
    {
     "name": "stdout",
     "output_type": "stream",
     "text": [
      "Size: 568\n"
     ]
    }
   ],
   "source": [
    "my_df = pd.read_csv(path + 'my_ratings.csv', encoding='latin-1')\n",
    "my_df = my_df.sort_values('Date Rated').reset_index(drop=True)\n",
    "print('Size:', len(my_df))"
   ]
  },
  {
   "cell_type": "markdown",
   "metadata": {},
   "source": [
    "#### First and last movie I rated"
   ]
  },
  {
   "cell_type": "code",
   "execution_count": 86,
   "metadata": {},
   "outputs": [
    {
     "data": {
      "text/html": [
       "<div>\n",
       "<style scoped>\n",
       "    .dataframe tbody tr th:only-of-type {\n",
       "        vertical-align: middle;\n",
       "    }\n",
       "\n",
       "    .dataframe tbody tr th {\n",
       "        vertical-align: top;\n",
       "    }\n",
       "\n",
       "    .dataframe thead th {\n",
       "        text-align: right;\n",
       "    }\n",
       "</style>\n",
       "<table border=\"1\" class=\"dataframe\">\n",
       "  <thead>\n",
       "    <tr style=\"text-align: right;\">\n",
       "      <th></th>\n",
       "      <th>Const</th>\n",
       "      <th>Your Rating</th>\n",
       "      <th>Date Rated</th>\n",
       "      <th>Title</th>\n",
       "      <th>URL</th>\n",
       "      <th>Title Type</th>\n",
       "      <th>IMDb Rating</th>\n",
       "      <th>Runtime (mins)</th>\n",
       "      <th>Year</th>\n",
       "      <th>Genres</th>\n",
       "      <th>Num Votes</th>\n",
       "      <th>Release Date</th>\n",
       "      <th>Directors</th>\n",
       "    </tr>\n",
       "  </thead>\n",
       "  <tbody>\n",
       "    <tr>\n",
       "      <th>0</th>\n",
       "      <td>tt0111161</td>\n",
       "      <td>10</td>\n",
       "      <td>2007-08-12</td>\n",
       "      <td>The Shawshank Redemption</td>\n",
       "      <td>https://www.imdb.com/title/tt0111161/</td>\n",
       "      <td>movie</td>\n",
       "      <td>9.3</td>\n",
       "      <td>142.0</td>\n",
       "      <td>1994</td>\n",
       "      <td>Drama</td>\n",
       "      <td>2034334</td>\n",
       "      <td>1994-09-10</td>\n",
       "      <td>Frank Darabont</td>\n",
       "    </tr>\n",
       "    <tr>\n",
       "      <th>567</th>\n",
       "      <td>tt2397535</td>\n",
       "      <td>10</td>\n",
       "      <td>2015-11-28</td>\n",
       "      <td>Predestination</td>\n",
       "      <td>https://www.imdb.com/title/tt2397535/</td>\n",
       "      <td>movie</td>\n",
       "      <td>7.5</td>\n",
       "      <td>97.0</td>\n",
       "      <td>2014</td>\n",
       "      <td>Drama, Mystery, Sci-Fi, Thriller</td>\n",
       "      <td>218780</td>\n",
       "      <td>2014-03-08</td>\n",
       "      <td>Michael Spierig, Peter Spierig</td>\n",
       "    </tr>\n",
       "  </tbody>\n",
       "</table>\n",
       "</div>"
      ],
      "text/plain": [
       "         Const  Your Rating  Date Rated                     Title  \\\n",
       "0    tt0111161           10  2007-08-12  The Shawshank Redemption   \n",
       "567  tt2397535           10  2015-11-28            Predestination   \n",
       "\n",
       "                                       URL Title Type  IMDb Rating  \\\n",
       "0    https://www.imdb.com/title/tt0111161/      movie          9.3   \n",
       "567  https://www.imdb.com/title/tt2397535/      movie          7.5   \n",
       "\n",
       "     Runtime (mins)  Year                            Genres  Num Votes  \\\n",
       "0             142.0  1994                             Drama    2034334   \n",
       "567            97.0  2014  Drama, Mystery, Sci-Fi, Thriller     218780   \n",
       "\n",
       "    Release Date                       Directors  \n",
       "0     1994-09-10                  Frank Darabont  \n",
       "567   2014-03-08  Michael Spierig, Peter Spierig  "
      ]
     },
     "execution_count": 86,
     "metadata": {},
     "output_type": "execute_result"
    }
   ],
   "source": [
    "my_df.iloc[[0, -1]]"
   ]
  },
  {
   "cell_type": "code",
   "execution_count": 87,
   "metadata": {
    "scrolled": true
   },
   "outputs": [
    {
     "data": {
      "text/html": [
       "<div>\n",
       "<style scoped>\n",
       "    .dataframe tbody tr th:only-of-type {\n",
       "        vertical-align: middle;\n",
       "    }\n",
       "\n",
       "    .dataframe tbody tr th {\n",
       "        vertical-align: top;\n",
       "    }\n",
       "\n",
       "    .dataframe thead th {\n",
       "        text-align: right;\n",
       "    }\n",
       "</style>\n",
       "<table border=\"1\" class=\"dataframe\">\n",
       "  <thead>\n",
       "    <tr style=\"text-align: right;\">\n",
       "      <th></th>\n",
       "      <th>Your Rating</th>\n",
       "      <th>IMDb Rating</th>\n",
       "      <th>Runtime (mins)</th>\n",
       "      <th>Year</th>\n",
       "      <th>Num Votes</th>\n",
       "    </tr>\n",
       "  </thead>\n",
       "  <tbody>\n",
       "    <tr>\n",
       "      <th>count</th>\n",
       "      <td>568.0</td>\n",
       "      <td>568.0</td>\n",
       "      <td>565.0</td>\n",
       "      <td>568.0</td>\n",
       "      <td>568.0</td>\n",
       "    </tr>\n",
       "    <tr>\n",
       "      <th>mean</th>\n",
       "      <td>8.0</td>\n",
       "      <td>7.6</td>\n",
       "      <td>109.4</td>\n",
       "      <td>2002.2</td>\n",
       "      <td>323541.1</td>\n",
       "    </tr>\n",
       "    <tr>\n",
       "      <th>std</th>\n",
       "      <td>1.9</td>\n",
       "      <td>0.9</td>\n",
       "      <td>37.7</td>\n",
       "      <td>10.3</td>\n",
       "      <td>332702.2</td>\n",
       "    </tr>\n",
       "    <tr>\n",
       "      <th>min</th>\n",
       "      <td>1.0</td>\n",
       "      <td>1.6</td>\n",
       "      <td>8.0</td>\n",
       "      <td>1942.0</td>\n",
       "      <td>13.0</td>\n",
       "    </tr>\n",
       "    <tr>\n",
       "      <th>25%</th>\n",
       "      <td>7.0</td>\n",
       "      <td>7.1</td>\n",
       "      <td>96.0</td>\n",
       "      <td>1999.8</td>\n",
       "      <td>84620.5</td>\n",
       "    </tr>\n",
       "    <tr>\n",
       "      <th>50%</th>\n",
       "      <td>8.0</td>\n",
       "      <td>7.7</td>\n",
       "      <td>108.0</td>\n",
       "      <td>2005.0</td>\n",
       "      <td>215472.0</td>\n",
       "    </tr>\n",
       "    <tr>\n",
       "      <th>75%</th>\n",
       "      <td>10.0</td>\n",
       "      <td>8.1</td>\n",
       "      <td>125.0</td>\n",
       "      <td>2008.0</td>\n",
       "      <td>454300.2</td>\n",
       "    </tr>\n",
       "    <tr>\n",
       "      <th>max</th>\n",
       "      <td>10.0</td>\n",
       "      <td>9.5</td>\n",
       "      <td>533.0</td>\n",
       "      <td>2014.0</td>\n",
       "      <td>2034334.0</td>\n",
       "    </tr>\n",
       "  </tbody>\n",
       "</table>\n",
       "</div>"
      ],
      "text/plain": [
       "       Your Rating  IMDb Rating  Runtime (mins)    Year  Num Votes\n",
       "count        568.0        568.0           565.0   568.0      568.0\n",
       "mean           8.0          7.6           109.4  2002.2   323541.1\n",
       "std            1.9          0.9            37.7    10.3   332702.2\n",
       "min            1.0          1.6             8.0  1942.0       13.0\n",
       "25%            7.0          7.1            96.0  1999.8    84620.5\n",
       "50%            8.0          7.7           108.0  2005.0   215472.0\n",
       "75%           10.0          8.1           125.0  2008.0   454300.2\n",
       "max           10.0          9.5           533.0  2014.0  2034334.0"
      ]
     },
     "execution_count": 87,
     "metadata": {},
     "output_type": "execute_result"
    }
   ],
   "source": [
    "my_df.describe().round(decimals=1)"
   ]
  },
  {
   "cell_type": "markdown",
   "metadata": {},
   "source": [
    "### Format my ratings (my_df)"
   ]
  },
  {
   "cell_type": "markdown",
   "metadata": {},
   "source": [
    "#### Add userId, rating, timestamp and imdbId to my_df"
   ]
  },
  {
   "cell_type": "code",
   "execution_count": 90,
   "metadata": {},
   "outputs": [
    {
     "data": {
      "text/html": [
       "<div>\n",
       "<style scoped>\n",
       "    .dataframe tbody tr th:only-of-type {\n",
       "        vertical-align: middle;\n",
       "    }\n",
       "\n",
       "    .dataframe tbody tr th {\n",
       "        vertical-align: top;\n",
       "    }\n",
       "\n",
       "    .dataframe thead th {\n",
       "        text-align: right;\n",
       "    }\n",
       "</style>\n",
       "<table border=\"1\" class=\"dataframe\">\n",
       "  <thead>\n",
       "    <tr style=\"text-align: right;\">\n",
       "      <th></th>\n",
       "      <th>Const</th>\n",
       "      <th>Your Rating</th>\n",
       "      <th>Date Rated</th>\n",
       "      <th>Title</th>\n",
       "      <th>URL</th>\n",
       "      <th>Title Type</th>\n",
       "      <th>IMDb Rating</th>\n",
       "      <th>Runtime (mins)</th>\n",
       "      <th>Year</th>\n",
       "      <th>Genres</th>\n",
       "      <th>Num Votes</th>\n",
       "      <th>Release Date</th>\n",
       "      <th>Directors</th>\n",
       "      <th>userId</th>\n",
       "      <th>rating</th>\n",
       "      <th>timestamp</th>\n",
       "      <th>imdbId</th>\n",
       "    </tr>\n",
       "  </thead>\n",
       "  <tbody>\n",
       "    <tr>\n",
       "      <th>0</th>\n",
       "      <td>tt0111161</td>\n",
       "      <td>10</td>\n",
       "      <td>2007-08-12</td>\n",
       "      <td>The Shawshank Redemption</td>\n",
       "      <td>https://www.imdb.com/title/tt0111161/</td>\n",
       "      <td>movie</td>\n",
       "      <td>9.3</td>\n",
       "      <td>142.0</td>\n",
       "      <td>1994</td>\n",
       "      <td>Drama</td>\n",
       "      <td>2034334</td>\n",
       "      <td>1994-09-10</td>\n",
       "      <td>Frank Darabont</td>\n",
       "      <td>138494</td>\n",
       "      <td>5.0</td>\n",
       "      <td>1186876800</td>\n",
       "      <td>111161</td>\n",
       "    </tr>\n",
       "    <tr>\n",
       "      <th>567</th>\n",
       "      <td>tt2397535</td>\n",
       "      <td>10</td>\n",
       "      <td>2015-11-28</td>\n",
       "      <td>Predestination</td>\n",
       "      <td>https://www.imdb.com/title/tt2397535/</td>\n",
       "      <td>movie</td>\n",
       "      <td>7.5</td>\n",
       "      <td>97.0</td>\n",
       "      <td>2014</td>\n",
       "      <td>Drama, Mystery, Sci-Fi, Thriller</td>\n",
       "      <td>218780</td>\n",
       "      <td>2014-03-08</td>\n",
       "      <td>Michael Spierig, Peter Spierig</td>\n",
       "      <td>138494</td>\n",
       "      <td>5.0</td>\n",
       "      <td>1448668800</td>\n",
       "      <td>2397535</td>\n",
       "    </tr>\n",
       "  </tbody>\n",
       "</table>\n",
       "</div>"
      ],
      "text/plain": [
       "         Const  Your Rating  Date Rated                     Title  \\\n",
       "0    tt0111161           10  2007-08-12  The Shawshank Redemption   \n",
       "567  tt2397535           10  2015-11-28            Predestination   \n",
       "\n",
       "                                       URL Title Type  IMDb Rating  \\\n",
       "0    https://www.imdb.com/title/tt0111161/      movie          9.3   \n",
       "567  https://www.imdb.com/title/tt2397535/      movie          7.5   \n",
       "\n",
       "     Runtime (mins)  Year                            Genres  Num Votes  \\\n",
       "0             142.0  1994                             Drama    2034334   \n",
       "567            97.0  2014  Drama, Mystery, Sci-Fi, Thriller     218780   \n",
       "\n",
       "    Release Date                       Directors  userId  rating   timestamp  \\\n",
       "0     1994-09-10                  Frank Darabont  138494     5.0  1186876800   \n",
       "567   2014-03-08  Michael Spierig, Peter Spierig  138494     5.0  1448668800   \n",
       "\n",
       "      imdbId  \n",
       "0     111161  \n",
       "567  2397535  "
      ]
     },
     "execution_count": 90,
     "metadata": {},
     "output_type": "execute_result"
    }
   ],
   "source": [
    "my_df['userId'] = max(ratings['userId']) + 1\n",
    "my_df['rating'] = my_df['Your Rating'] / 2\n",
    "my_df['timestamp'] = my_df['Date Rated'].astype('datetime64[ns]').astype('int64')//1000000000\n",
    "my_df['imdbId'] = my_df['Const'].apply(lambda x: x[2:]).map(int)\n",
    "my_df.iloc[[0, -1]]"
   ]
  },
  {
   "cell_type": "markdown",
   "metadata": {},
   "source": [
    "#### Merge my_df with links and select only necessary columns"
   ]
  },
  {
   "cell_type": "code",
   "execution_count": 95,
   "metadata": {},
   "outputs": [
    {
     "data": {
      "text/html": [
       "<div>\n",
       "<style scoped>\n",
       "    .dataframe tbody tr th:only-of-type {\n",
       "        vertical-align: middle;\n",
       "    }\n",
       "\n",
       "    .dataframe tbody tr th {\n",
       "        vertical-align: top;\n",
       "    }\n",
       "\n",
       "    .dataframe thead th {\n",
       "        text-align: right;\n",
       "    }\n",
       "</style>\n",
       "<table border=\"1\" class=\"dataframe\">\n",
       "  <thead>\n",
       "    <tr style=\"text-align: right;\">\n",
       "      <th></th>\n",
       "      <th>userId</th>\n",
       "      <th>movieId</th>\n",
       "      <th>rating</th>\n",
       "      <th>timestamp</th>\n",
       "    </tr>\n",
       "  </thead>\n",
       "  <tbody>\n",
       "    <tr>\n",
       "      <th>495</th>\n",
       "      <td>138494</td>\n",
       "      <td>77800</td>\n",
       "      <td>5.0</td>\n",
       "      <td>1448496000</td>\n",
       "    </tr>\n",
       "    <tr>\n",
       "      <th>496</th>\n",
       "      <td>138494</td>\n",
       "      <td>114935</td>\n",
       "      <td>5.0</td>\n",
       "      <td>1448668800</td>\n",
       "    </tr>\n",
       "  </tbody>\n",
       "</table>\n",
       "</div>"
      ],
      "text/plain": [
       "     userId  movieId  rating   timestamp\n",
       "495  138494    77800     5.0  1448496000\n",
       "496  138494   114935     5.0  1448668800"
      ]
     },
     "execution_count": 95,
     "metadata": {},
     "output_type": "execute_result"
    }
   ],
   "source": [
    "my_movies = my_df.merge(links, on='imdbId')\n",
    "my_movies.to_pickle('data/my_movies_full_df.pkl')\n",
    "my_movies = my_movies[['userId', 'movieId', 'rating', 'timestamp']]\n",
    "my_movies.tail(2)"
   ]
  },
  {
   "cell_type": "markdown",
   "metadata": {},
   "source": [
    "#### Concat my_df  with all ratings"
   ]
  },
  {
   "cell_type": "code",
   "execution_count": 11,
   "metadata": {
    "scrolled": true
   },
   "outputs": [
    {
     "data": {
      "text/html": [
       "<div>\n",
       "<style scoped>\n",
       "    .dataframe tbody tr th:only-of-type {\n",
       "        vertical-align: middle;\n",
       "    }\n",
       "\n",
       "    .dataframe tbody tr th {\n",
       "        vertical-align: top;\n",
       "    }\n",
       "\n",
       "    .dataframe thead th {\n",
       "        text-align: right;\n",
       "    }\n",
       "</style>\n",
       "<table border=\"1\" class=\"dataframe\">\n",
       "  <thead>\n",
       "    <tr style=\"text-align: right;\">\n",
       "      <th></th>\n",
       "      <th>userId</th>\n",
       "      <th>movieId</th>\n",
       "      <th>rating</th>\n",
       "      <th>timestamp</th>\n",
       "    </tr>\n",
       "  </thead>\n",
       "  <tbody>\n",
       "    <tr>\n",
       "      <th>20000758</th>\n",
       "      <td>138494</td>\n",
       "      <td>77800</td>\n",
       "      <td>5.0</td>\n",
       "      <td>1448496000</td>\n",
       "    </tr>\n",
       "    <tr>\n",
       "      <th>20000759</th>\n",
       "      <td>138494</td>\n",
       "      <td>114935</td>\n",
       "      <td>5.0</td>\n",
       "      <td>1448668800</td>\n",
       "    </tr>\n",
       "  </tbody>\n",
       "</table>\n",
       "</div>"
      ],
      "text/plain": [
       "          userId  movieId  rating   timestamp\n",
       "20000758  138494    77800     5.0  1448496000\n",
       "20000759  138494   114935     5.0  1448668800"
      ]
     },
     "execution_count": 11,
     "metadata": {},
     "output_type": "execute_result"
    }
   ],
   "source": [
    "all_df = pd.concat([ratings, my_movies], ignore_index=True)\n",
    "all_df.tail(2)"
   ]
  },
  {
   "cell_type": "code",
   "execution_count": 12,
   "metadata": {},
   "outputs": [
    {
     "data": {
      "text/html": [
       "<div>\n",
       "<style scoped>\n",
       "    .dataframe tbody tr th:only-of-type {\n",
       "        vertical-align: middle;\n",
       "    }\n",
       "\n",
       "    .dataframe tbody tr th {\n",
       "        vertical-align: top;\n",
       "    }\n",
       "\n",
       "    .dataframe thead th {\n",
       "        text-align: right;\n",
       "    }\n",
       "</style>\n",
       "<table border=\"1\" class=\"dataframe\">\n",
       "  <thead>\n",
       "    <tr style=\"text-align: right;\">\n",
       "      <th></th>\n",
       "      <th>userId</th>\n",
       "      <th>movieId</th>\n",
       "      <th>rating</th>\n",
       "      <th>timestamp</th>\n",
       "    </tr>\n",
       "  </thead>\n",
       "  <tbody>\n",
       "    <tr>\n",
       "      <th>20000286</th>\n",
       "      <td>138494</td>\n",
       "      <td>7346</td>\n",
       "      <td>4.0</td>\n",
       "      <td>1197417600</td>\n",
       "    </tr>\n",
       "    <tr>\n",
       "      <th>20000287</th>\n",
       "      <td>138494</td>\n",
       "      <td>912</td>\n",
       "      <td>3.5</td>\n",
       "      <td>1197417600</td>\n",
       "    </tr>\n",
       "  </tbody>\n",
       "</table>\n",
       "</div>"
      ],
      "text/plain": [
       "          userId  movieId  rating   timestamp\n",
       "20000286  138494     7346     4.0  1197417600\n",
       "20000287  138494      912     3.5  1197417600"
      ]
     },
     "execution_count": 12,
     "metadata": {},
     "output_type": "execute_result"
    }
   ],
   "source": [
    "all_df[all_df.timestamp == 1197417600]"
   ]
  },
  {
   "cell_type": "markdown",
   "metadata": {},
   "source": [
    "#### Merge titles"
   ]
  },
  {
   "cell_type": "code",
   "execution_count": 13,
   "metadata": {
    "scrolled": true
   },
   "outputs": [
    {
     "data": {
      "text/html": [
       "<div>\n",
       "<style scoped>\n",
       "    .dataframe tbody tr th:only-of-type {\n",
       "        vertical-align: middle;\n",
       "    }\n",
       "\n",
       "    .dataframe tbody tr th {\n",
       "        vertical-align: top;\n",
       "    }\n",
       "\n",
       "    .dataframe thead th {\n",
       "        text-align: right;\n",
       "    }\n",
       "</style>\n",
       "<table border=\"1\" class=\"dataframe\">\n",
       "  <thead>\n",
       "    <tr style=\"text-align: right;\">\n",
       "      <th></th>\n",
       "      <th>userId</th>\n",
       "      <th>movieId</th>\n",
       "      <th>rating</th>\n",
       "      <th>timestamp</th>\n",
       "      <th>title</th>\n",
       "    </tr>\n",
       "  </thead>\n",
       "  <tbody>\n",
       "    <tr>\n",
       "      <th>20000758</th>\n",
       "      <td>138494</td>\n",
       "      <td>77800</td>\n",
       "      <td>5.0</td>\n",
       "      <td>1448496000</td>\n",
       "      <td>Four Lions (2010)</td>\n",
       "    </tr>\n",
       "    <tr>\n",
       "      <th>20000759</th>\n",
       "      <td>138494</td>\n",
       "      <td>114935</td>\n",
       "      <td>5.0</td>\n",
       "      <td>1448668800</td>\n",
       "      <td>Predestination (2014)</td>\n",
       "    </tr>\n",
       "  </tbody>\n",
       "</table>\n",
       "</div>"
      ],
      "text/plain": [
       "          userId  movieId  rating   timestamp                  title\n",
       "20000758  138494    77800     5.0  1448496000      Four Lions (2010)\n",
       "20000759  138494   114935     5.0  1448668800  Predestination (2014)"
      ]
     },
     "execution_count": 13,
     "metadata": {},
     "output_type": "execute_result"
    }
   ],
   "source": [
    "all_df['order'] = all_df.index\n",
    "all_df = pd.merge(all_df, movies[['movieId', 'title']])\n",
    "all_df = all_df.sort_values('order')\n",
    "all_df = all_df.reset_index(drop=True)\n",
    "all_df = all_df.drop(columns='order')\n",
    "\n",
    "all_df.tail(2)"
   ]
  },
  {
   "cell_type": "code",
   "execution_count": 14,
   "metadata": {},
   "outputs": [
    {
     "name": "stdout",
     "output_type": "stream",
     "text": [
      "Nr of missing values: 0\n"
     ]
    }
   ],
   "source": [
    "print(f'Nr of missing values: {movies.isnull().values.sum()}')"
   ]
  },
  {
   "cell_type": "code",
   "execution_count": 15,
   "metadata": {},
   "outputs": [],
   "source": [
    "my_user_id = all_df[-1:]['userId'].values[0]\n",
    "my_df = all_df[all_df.userId == my_user_id].copy()"
   ]
  },
  {
   "cell_type": "markdown",
   "metadata": {},
   "source": [
    "### Select smaller dataset"
   ]
  },
  {
   "cell_type": "markdown",
   "metadata": {},
   "source": [
    "To train faster I'm going to use 10x smaller dataset.  \n",
    "Select most 1000 most rated movies by 4000 most active users."
   ]
  },
  {
   "cell_type": "code",
   "execution_count": 16,
   "metadata": {
    "scrolled": true
   },
   "outputs": [
    {
     "data": {
      "text/plain": [
       "26744"
      ]
     },
     "execution_count": 16,
     "metadata": {},
     "output_type": "execute_result"
    }
   ],
   "source": [
    "g = all_df.groupby('movieId')['rating'].count()\n",
    "top_movies = g.sort_values(ascending=False).index.values\n",
    "len(top_movies)"
   ]
  },
  {
   "cell_type": "code",
   "execution_count": 17,
   "metadata": {},
   "outputs": [
    {
     "data": {
      "text/plain": [
       "14146866"
      ]
     },
     "execution_count": 17,
     "metadata": {},
     "output_type": "execute_result"
    }
   ],
   "source": [
    "top_movies_all_df = all_df[all_df['movieId'].isin(top_movies[:1300])]\n",
    "len(top_movies_all_df)"
   ]
  },
  {
   "cell_type": "code",
   "execution_count": 18,
   "metadata": {
    "scrolled": true
   },
   "outputs": [
    {
     "name": "stdout",
     "output_type": "stream",
     "text": [
      "138490\n"
     ]
    }
   ],
   "source": [
    "g = top_movies_all_df.groupby('userId')['rating'].count()\n",
    "top_users = g.sort_values(ascending=False).index.values\n",
    "\n",
    "print(len(top_users))\n",
    "selected_users = np.append(top_users[:3999], my_user_id)"
   ]
  },
  {
   "cell_type": "code",
   "execution_count": 19,
   "metadata": {},
   "outputs": [
    {
     "data": {
      "text/plain": [
       "2391426"
      ]
     },
     "execution_count": 19,
     "metadata": {},
     "output_type": "execute_result"
    }
   ],
   "source": [
    "top_user_movies_all_df = top_movies_all_df[top_movies_all_df['userId'].isin(selected_users)]\n",
    "len(top_user_movies_all_df)"
   ]
  },
  {
   "cell_type": "code",
   "execution_count": 20,
   "metadata": {},
   "outputs": [
    {
     "data": {
      "text/plain": [
       "1300"
      ]
     },
     "execution_count": 20,
     "metadata": {},
     "output_type": "execute_result"
    }
   ],
   "source": [
    "g = top_user_movies_all_df.groupby('movieId')['rating'].count()\n",
    "top_movies = g.sort_values(ascending=False).index.values\n",
    "len(top_movies)"
   ]
  },
  {
   "cell_type": "code",
   "execution_count": 21,
   "metadata": {},
   "outputs": [
    {
     "data": {
      "text/plain": [
       "2102290"
      ]
     },
     "execution_count": 21,
     "metadata": {},
     "output_type": "execute_result"
    }
   ],
   "source": [
    "selected_2m = top_user_movies_all_df[top_user_movies_all_df['movieId'].isin(top_movies[:1000])]\n",
    "\n",
    "#selected_2m.to_pickle('data/selected_2m.pkl')\n",
    "len(selected_2m)"
   ]
  },
  {
   "cell_type": "markdown",
   "metadata": {},
   "source": [
    "### Split train and test data"
   ]
  },
  {
   "cell_type": "code",
   "execution_count": 16,
   "metadata": {
    "scrolled": true
   },
   "outputs": [],
   "source": [
    "good_idx = my_df[my_df.rating > 4].index.values\n",
    "normal_idx = my_df[(my_df.rating <= 4) & (my_df.rating > 2)].index.values\n",
    "bad_idx = my_df[my_df.rating <= 2].index.values\n",
    "\n",
    "from random import shuffle\n",
    "shuffle(good_idx)\n",
    "shuffle(normal_idx)\n",
    "shuffle(bad_idx)\n",
    "\n",
    "test_idx = np.append(good_idx[:45], normal_idx[:50])\n",
    "test_idx = np.append(test_idx, bad_idx[:5])\n",
    "\n",
    "shuffle(test_idx)\n",
    "\n",
    "test_df = all_df.iloc[test_idx]\n",
    "train_df = all_df.drop(all_df.index[test_df.index])\n",
    "\n",
    "test_df.reset_index(drop=True, inplace=True)\n",
    "test_df.to_pickle('data/test_df.pkl')\n",
    "train_df.to_pickle('data/train_df.pkl')"
   ]
  },
  {
   "cell_type": "markdown",
   "metadata": {},
   "source": [
    "### Plot ratings"
   ]
  },
  {
   "cell_type": "code",
   "execution_count": 17,
   "metadata": {
    "scrolled": false
   },
   "outputs": [
    {
     "data": {
      "text/plain": [
       "<matplotlib.axes._subplots.AxesSubplot at 0x7f3d4837e240>"
      ]
     },
     "execution_count": 17,
     "metadata": {},
     "output_type": "execute_result"
    },
    {
     "data": {
      "image/png": "[encoded data removed]",
      "text/plain": [
       "<Figure size 432x288 with 1 Axes>"
      ]
     },
     "metadata": {
      "needs_background": "light"
     },
     "output_type": "display_data"
    }
   ],
   "source": [
    "ratings.rating.hist()"
   ]
  },
  {
   "cell_type": "markdown",
   "metadata": {},
   "source": [
    "#### x.5 ratings are used less frequently. Round them up and plot them with my ratings."
   ]
  },
  {
   "cell_type": "code",
   "execution_count": 18,
   "metadata": {},
   "outputs": [
    {
     "data": {
      "image/png": "[encoded data removed]",
      "text/plain": [
       "<Figure size 432x288 with 1 Axes>"
      ]
     },
     "metadata": {
      "needs_background": "light"
     },
     "output_type": "display_data"
    }
   ],
   "source": [
    "index = 5\n",
    "bar_width = 0.4\n",
    "font_size = 12\n",
    "\n",
    "bar_data = (ratings.rating + 0.5).astype(int).value_counts(normalize=True)\n",
    "x = bar_data.index.values - bar_width / 2\n",
    "\n",
    "my_bar_data = (my_df.rating + 0.5).astype(int).value_counts(normalize=True)\n",
    "my_x = my_bar_data.index.values + bar_width / 2\n",
    "\n",
    "fig, ax = plt.subplots()\n",
    "\n",
    "rects1 = ax.bar(x, bar_data, bar_width, color='tab:blue', label='MovieLens ratings')\n",
    "rects2 = ax.bar(my_x, my_bar_data, bar_width, color='tab:red', label='My ratings')\n",
    "\n",
    "ax.legend(fontsize=12)\n",
    "ax.set_ylabel('%', fontsize=font_size)\n",
    "ax.set_xlabel('5-star scale', fontsize=font_size)\n",
    "ax.set_xticklabels([f'{x} *' for x in range(6)])\n",
    "plt.title('MovieLens vs my rating histogram', fontsize=font_size)\n",
    "fig.tight_layout()\n",
    "\n",
    "plt.savefig('images/plt_rating_bar.png')\n",
    "plt.show()"
   ]
  },
  {
   "cell_type": "markdown",
   "metadata": {},
   "source": [
    "### Most voted movies"
   ]
  },
  {
   "cell_type": "code",
   "execution_count": 19,
   "metadata": {},
   "outputs": [
    {
     "data": {
      "text/html": [
       "<div>\n",
       "<style scoped>\n",
       "    .dataframe tbody tr th:only-of-type {\n",
       "        vertical-align: middle;\n",
       "    }\n",
       "\n",
       "    .dataframe tbody tr th {\n",
       "        vertical-align: top;\n",
       "    }\n",
       "\n",
       "    .dataframe thead th {\n",
       "        text-align: right;\n",
       "    }\n",
       "</style>\n",
       "<table border=\"1\" class=\"dataframe\">\n",
       "  <thead>\n",
       "    <tr style=\"text-align: right;\">\n",
       "      <th></th>\n",
       "      <th>movieId</th>\n",
       "      <th>title</th>\n",
       "      <th>genres</th>\n",
       "      <th>nrOfVotes</th>\n",
       "      <th>meanRating</th>\n",
       "      <th>myRating</th>\n",
       "    </tr>\n",
       "  </thead>\n",
       "  <tbody>\n",
       "    <tr>\n",
       "      <th>0</th>\n",
       "      <td>296</td>\n",
       "      <td>Pulp Fiction (1994)</td>\n",
       "      <td>Comedy|Crime|Drama|Thriller</td>\n",
       "      <td>67310</td>\n",
       "      <td>4.174231</td>\n",
       "      <td>4.0</td>\n",
       "    </tr>\n",
       "    <tr>\n",
       "      <th>1</th>\n",
       "      <td>356</td>\n",
       "      <td>Forrest Gump (1994)</td>\n",
       "      <td>Comedy|Drama|Romance|War</td>\n",
       "      <td>66172</td>\n",
       "      <td>4.029000</td>\n",
       "      <td>5.0</td>\n",
       "    </tr>\n",
       "    <tr>\n",
       "      <th>2</th>\n",
       "      <td>318</td>\n",
       "      <td>Shawshank Redemption, The (1994)</td>\n",
       "      <td>Crime|Drama</td>\n",
       "      <td>63366</td>\n",
       "      <td>4.446990</td>\n",
       "      <td>5.0</td>\n",
       "    </tr>\n",
       "    <tr>\n",
       "      <th>3</th>\n",
       "      <td>593</td>\n",
       "      <td>Silence of the Lambs, The (1991)</td>\n",
       "      <td>Crime|Horror|Thriller</td>\n",
       "      <td>63299</td>\n",
       "      <td>4.177057</td>\n",
       "      <td>3.5</td>\n",
       "    </tr>\n",
       "    <tr>\n",
       "      <th>4</th>\n",
       "      <td>480</td>\n",
       "      <td>Jurassic Park (1993)</td>\n",
       "      <td>Action|Adventure|Sci-Fi|Thriller</td>\n",
       "      <td>59715</td>\n",
       "      <td>3.664741</td>\n",
       "      <td>NaN</td>\n",
       "    </tr>\n",
       "  </tbody>\n",
       "</table>\n",
       "</div>"
      ],
      "text/plain": [
       "   movieId                             title  \\\n",
       "0      296               Pulp Fiction (1994)   \n",
       "1      356               Forrest Gump (1994)   \n",
       "2      318  Shawshank Redemption, The (1994)   \n",
       "3      593  Silence of the Lambs, The (1991)   \n",
       "4      480              Jurassic Park (1993)   \n",
       "\n",
       "                             genres  nrOfVotes  meanRating  myRating  \n",
       "0       Comedy|Crime|Drama|Thriller      67310    4.174231       4.0  \n",
       "1          Comedy|Drama|Romance|War      66172    4.029000       5.0  \n",
       "2                       Crime|Drama      63366    4.446990       5.0  \n",
       "3             Crime|Horror|Thriller      63299    4.177057       3.5  \n",
       "4  Action|Adventure|Sci-Fi|Thriller      59715    3.664741       NaN  "
      ]
     },
     "execution_count": 19,
     "metadata": {},
     "output_type": "execute_result"
    }
   ],
   "source": [
    "ratings_grouped = ratings.groupby('movieId')\n",
    "idx = pd.Index(movies['movieId']).get_indexer(ratings_grouped.count().index.values)\n",
    "top_df = movies.iloc[idx].copy()\n",
    "top_df['nrOfVotes'] = ratings_grouped.count().userId.values\n",
    "top_df['meanRating'] = ratings_grouped.mean().rating.values\n",
    "top_df['myRating'] = top_df.movieId.apply(lambda x: np.NaN if my_df[my_df.movieId == x].empty else my_df[my_df.movieId == x].rating.values[0])\n",
    "top_df = top_df.sort_values('nrOfVotes', ascending=False).reset_index(drop=True)\n",
    "\n",
    "top_df.head()"
   ]
  },
  {
   "cell_type": "code",
   "execution_count": 20,
   "metadata": {},
   "outputs": [
    {
     "name": "stdout",
     "output_type": "stream",
     "text": [
      "I have seen 132 out of top 500\n"
     ]
    }
   ],
   "source": [
    "print(f'I have seen {top_df[:500].myRating.notnull().values.sum()} out of top 500')"
   ]
  },
  {
   "cell_type": "markdown",
   "metadata": {},
   "source": [
    "#### Rare Movies\n",
    "The least often rated movies that I've rated"
   ]
  },
  {
   "cell_type": "code",
   "execution_count": 21,
   "metadata": {
    "scrolled": true
   },
   "outputs": [
    {
     "data": {
      "text/html": [
       "<div>\n",
       "<style scoped>\n",
       "    .dataframe tbody tr th:only-of-type {\n",
       "        vertical-align: middle;\n",
       "    }\n",
       "\n",
       "    .dataframe tbody tr th {\n",
       "        vertical-align: top;\n",
       "    }\n",
       "\n",
       "    .dataframe thead th {\n",
       "        text-align: right;\n",
       "    }\n",
       "</style>\n",
       "<table border=\"1\" class=\"dataframe\">\n",
       "  <thead>\n",
       "    <tr style=\"text-align: right;\">\n",
       "      <th></th>\n",
       "      <th>movieId</th>\n",
       "      <th>title</th>\n",
       "      <th>genres</th>\n",
       "      <th>nrOfVotes</th>\n",
       "      <th>meanRating</th>\n",
       "      <th>myRating</th>\n",
       "    </tr>\n",
       "  </thead>\n",
       "  <tbody>\n",
       "    <tr>\n",
       "      <th>22447</th>\n",
       "      <td>97781</td>\n",
       "      <td>Rolling (2007)</td>\n",
       "      <td>Drama</td>\n",
       "      <td>2</td>\n",
       "      <td>3.0</td>\n",
       "      <td>5.0</td>\n",
       "    </tr>\n",
       "    <tr>\n",
       "      <th>21714</th>\n",
       "      <td>121103</td>\n",
       "      <td>Justin Bieber: Never Say Never (2011)</td>\n",
       "      <td>Documentary</td>\n",
       "      <td>2</td>\n",
       "      <td>1.5</td>\n",
       "      <td>0.5</td>\n",
       "    </tr>\n",
       "  </tbody>\n",
       "</table>\n",
       "</div>"
      ],
      "text/plain": [
       "       movieId                                  title       genres  nrOfVotes  \\\n",
       "22447    97781                         Rolling (2007)        Drama          2   \n",
       "21714   121103  Justin Bieber: Never Say Never (2011)  Documentary          2   \n",
       "\n",
       "       meanRating  myRating  \n",
       "22447         3.0       5.0  \n",
       "21714         1.5       0.5  "
      ]
     },
     "execution_count": 21,
     "metadata": {},
     "output_type": "execute_result"
    }
   ],
   "source": [
    "top_df[top_df.myRating.notnull()].sort_values('nrOfVotes').head(2)"
   ]
  },
  {
   "cell_type": "markdown",
   "metadata": {},
   "source": [
    "#### Unusual Likes\n",
    "The movies where my rating is higher than average rating"
   ]
  },
  {
   "cell_type": "code",
   "execution_count": 22,
   "metadata": {
    "scrolled": false
   },
   "outputs": [
    {
     "data": {
      "text/html": [
       "<div>\n",
       "<style scoped>\n",
       "    .dataframe tbody tr th:only-of-type {\n",
       "        vertical-align: middle;\n",
       "    }\n",
       "\n",
       "    .dataframe tbody tr th {\n",
       "        vertical-align: top;\n",
       "    }\n",
       "\n",
       "    .dataframe thead th {\n",
       "        text-align: right;\n",
       "    }\n",
       "</style>\n",
       "<table border=\"1\" class=\"dataframe\">\n",
       "  <thead>\n",
       "    <tr style=\"text-align: right;\">\n",
       "      <th></th>\n",
       "      <th>movieId</th>\n",
       "      <th>title</th>\n",
       "      <th>genres</th>\n",
       "      <th>nrOfVotes</th>\n",
       "      <th>meanRating</th>\n",
       "      <th>myRating</th>\n",
       "    </tr>\n",
       "  </thead>\n",
       "  <tbody>\n",
       "    <tr>\n",
       "      <th>4105</th>\n",
       "      <td>69436</td>\n",
       "      <td>Year One (2009)</td>\n",
       "      <td>Adventure|Comedy</td>\n",
       "      <td>605</td>\n",
       "      <td>2.532231</td>\n",
       "      <td>5.0</td>\n",
       "    </tr>\n",
       "    <tr>\n",
       "      <th>1938</th>\n",
       "      <td>63992</td>\n",
       "      <td>Twilight (2008)</td>\n",
       "      <td>Drama|Fantasy|Romance|Thriller</td>\n",
       "      <td>2156</td>\n",
       "      <td>2.746521</td>\n",
       "      <td>5.0</td>\n",
       "    </tr>\n",
       "  </tbody>\n",
       "</table>\n",
       "</div>"
      ],
      "text/plain": [
       "      movieId            title                          genres  nrOfVotes  \\\n",
       "4105    69436  Year One (2009)                Adventure|Comedy        605   \n",
       "1938    63992  Twilight (2008)  Drama|Fantasy|Romance|Thriller       2156   \n",
       "\n",
       "      meanRating  myRating  \n",
       "4105    2.532231       5.0  \n",
       "1938    2.746521       5.0  "
      ]
     },
     "execution_count": 22,
     "metadata": {},
     "output_type": "execute_result"
    }
   ],
   "source": [
    "top_df[top_df.myRating > 4].sort_values('meanRating').head(2)"
   ]
  },
  {
   "cell_type": "markdown",
   "metadata": {},
   "source": [
    "#### Unusual Dislikes\n",
    "The movies where my rating is lower than average rating"
   ]
  },
  {
   "cell_type": "code",
   "execution_count": 23,
   "metadata": {
    "scrolled": true
   },
   "outputs": [
    {
     "data": {
      "text/html": [
       "<div>\n",
       "<style scoped>\n",
       "    .dataframe tbody tr th:only-of-type {\n",
       "        vertical-align: middle;\n",
       "    }\n",
       "\n",
       "    .dataframe tbody tr th {\n",
       "        vertical-align: top;\n",
       "    }\n",
       "\n",
       "    .dataframe thead th {\n",
       "        text-align: right;\n",
       "    }\n",
       "</style>\n",
       "<table border=\"1\" class=\"dataframe\">\n",
       "  <thead>\n",
       "    <tr style=\"text-align: right;\">\n",
       "      <th></th>\n",
       "      <th>movieId</th>\n",
       "      <th>title</th>\n",
       "      <th>genres</th>\n",
       "      <th>nrOfVotes</th>\n",
       "      <th>meanRating</th>\n",
       "      <th>myRating</th>\n",
       "    </tr>\n",
       "  </thead>\n",
       "  <tbody>\n",
       "    <tr>\n",
       "      <th>1193</th>\n",
       "      <td>1237</td>\n",
       "      <td>Seventh Seal, The (Sjunde inseglet, Det) (1957)</td>\n",
       "      <td>Drama</td>\n",
       "      <td>4142</td>\n",
       "      <td>4.102849</td>\n",
       "      <td>2.0</td>\n",
       "    </tr>\n",
       "    <tr>\n",
       "      <th>443</th>\n",
       "      <td>55820</td>\n",
       "      <td>No Country for Old Men (2007)</td>\n",
       "      <td>Crime|Drama</td>\n",
       "      <td>10248</td>\n",
       "      <td>3.994389</td>\n",
       "      <td>1.0</td>\n",
       "    </tr>\n",
       "  </tbody>\n",
       "</table>\n",
       "</div>"
      ],
      "text/plain": [
       "      movieId                                            title       genres  \\\n",
       "1193     1237  Seventh Seal, The (Sjunde inseglet, Det) (1957)        Drama   \n",
       "443     55820                    No Country for Old Men (2007)  Crime|Drama   \n",
       "\n",
       "      nrOfVotes  meanRating  myRating  \n",
       "1193       4142    4.102849       2.0  \n",
       "443       10248    3.994389       1.0  "
      ]
     },
     "execution_count": 23,
     "metadata": {},
     "output_type": "execute_result"
    }
   ],
   "source": [
    "top_df[top_df.myRating <= 2].sort_values('meanRating', ascending=False).head(2)"
   ]
  },
  {
   "cell_type": "markdown",
   "metadata": {},
   "source": [
    "#### Popularity of my rated movies"
   ]
  },
  {
   "cell_type": "code",
   "execution_count": 24,
   "metadata": {},
   "outputs": [
    {
     "data": {
      "image/png": "[encoded data removed]",
      "text/plain": [
       "<Figure size 432x288 with 1 Axes>"
      ]
     },
     "metadata": {},
     "output_type": "display_data"
    }
   ],
   "source": [
    "top1 = top_df[:round(len(top_df) * 0.01)]\n",
    "my_top1_len = len(top1[top1.myRating.notnull()])\n",
    "\n",
    "bottom90 = top_df[round(len(top_df) * 0.1):]\n",
    "my_bottom90_len = len(bottom90[bottom90.myRating.notnull()])\n",
    "\n",
    "my_average_len = 497 - my_top1_len - my_bottom90_len\n",
    "\n",
    "\n",
    "labels = 'Common - Top 1%', 'Average', 'Rare - Bottom 90%'\n",
    "fracs = [my_top1_len, my_average_len, my_bottom90_len]\n",
    "colors = ['c', 'orange', 'purple']\n",
    "\n",
    "plt.title('My ratings labeled', fontsize=14)\n",
    "plt.pie(fracs, labels=labels, shadow=True, colors=colors, startangle=22)\n",
    "\n",
    "plt.savefig('images/plt_popularity_pie.png')\n",
    "plt.show()"
   ]
  },
  {
   "cell_type": "markdown",
   "metadata": {},
   "source": [
    "The bottom 90% of movies in the dataset in terms of number of ratings are 'rare', while the top 1% are 'common'"
   ]
  },
  {
   "cell_type": "markdown",
   "metadata": {},
   "source": [
    "### Movie genres\n",
    "One Hot Encode genres"
   ]
  },
  {
   "cell_type": "code",
   "execution_count": 25,
   "metadata": {
    "scrolled": true
   },
   "outputs": [
    {
     "data": {
      "text/html": [
       "<div>\n",
       "<style scoped>\n",
       "    .dataframe tbody tr th:only-of-type {\n",
       "        vertical-align: middle;\n",
       "    }\n",
       "\n",
       "    .dataframe tbody tr th {\n",
       "        vertical-align: top;\n",
       "    }\n",
       "\n",
       "    .dataframe thead th {\n",
       "        text-align: right;\n",
       "    }\n",
       "</style>\n",
       "<table border=\"1\" class=\"dataframe\">\n",
       "  <thead>\n",
       "    <tr style=\"text-align: right;\">\n",
       "      <th></th>\n",
       "      <th>movieId</th>\n",
       "      <th>title</th>\n",
       "      <th>genres</th>\n",
       "      <th>rating</th>\n",
       "      <th>Adventure</th>\n",
       "      <th>Animation</th>\n",
       "      <th>Children</th>\n",
       "      <th>Comedy</th>\n",
       "      <th>Fantasy</th>\n",
       "      <th>Action</th>\n",
       "      <th>...</th>\n",
       "      <th>Romance</th>\n",
       "      <th>Mystery</th>\n",
       "      <th>War</th>\n",
       "      <th>Sci-Fi</th>\n",
       "      <th>Film-Noir</th>\n",
       "      <th>Musical</th>\n",
       "      <th>IMAX</th>\n",
       "      <th>Western</th>\n",
       "      <th>Horror</th>\n",
       "      <th>Documentary</th>\n",
       "    </tr>\n",
       "  </thead>\n",
       "  <tbody>\n",
       "    <tr>\n",
       "      <th>0</th>\n",
       "      <td>1</td>\n",
       "      <td>Toy Story (1995)</td>\n",
       "      <td>Adventure|Animation|Children|Comedy|Fantasy</td>\n",
       "      <td>4.5</td>\n",
       "      <td>True</td>\n",
       "      <td>True</td>\n",
       "      <td>True</td>\n",
       "      <td>True</td>\n",
       "      <td>True</td>\n",
       "      <td>False</td>\n",
       "      <td>...</td>\n",
       "      <td>False</td>\n",
       "      <td>False</td>\n",
       "      <td>False</td>\n",
       "      <td>False</td>\n",
       "      <td>False</td>\n",
       "      <td>False</td>\n",
       "      <td>False</td>\n",
       "      <td>False</td>\n",
       "      <td>False</td>\n",
       "      <td>False</td>\n",
       "    </tr>\n",
       "    <tr>\n",
       "      <th>5</th>\n",
       "      <td>6</td>\n",
       "      <td>Heat (1995)</td>\n",
       "      <td>Action|Crime|Thriller</td>\n",
       "      <td>4.0</td>\n",
       "      <td>False</td>\n",
       "      <td>False</td>\n",
       "      <td>False</td>\n",
       "      <td>False</td>\n",
       "      <td>False</td>\n",
       "      <td>True</td>\n",
       "      <td>...</td>\n",
       "      <td>False</td>\n",
       "      <td>False</td>\n",
       "      <td>False</td>\n",
       "      <td>False</td>\n",
       "      <td>False</td>\n",
       "      <td>False</td>\n",
       "      <td>False</td>\n",
       "      <td>False</td>\n",
       "      <td>False</td>\n",
       "      <td>False</td>\n",
       "    </tr>\n",
       "  </tbody>\n",
       "</table>\n",
       "<p>2 rows × 23 columns</p>\n",
       "</div>"
      ],
      "text/plain": [
       "   movieId             title                                       genres  \\\n",
       "0        1  Toy Story (1995)  Adventure|Animation|Children|Comedy|Fantasy   \n",
       "5        6       Heat (1995)                        Action|Crime|Thriller   \n",
       "\n",
       "   rating  Adventure  Animation  Children  Comedy  Fantasy  Action  \\\n",
       "0     4.5       True       True      True    True     True   False   \n",
       "5     4.0      False      False     False   False    False    True   \n",
       "\n",
       "      ...       Romance  Mystery    War  Sci-Fi  Film-Noir  Musical   IMAX  \\\n",
       "0     ...         False    False  False   False      False    False  False   \n",
       "5     ...         False    False  False   False      False    False  False   \n",
       "\n",
       "   Western  Horror  Documentary  \n",
       "0    False   False        False  \n",
       "5    False   False        False  \n",
       "\n",
       "[2 rows x 23 columns]"
      ]
     },
     "execution_count": 25,
     "metadata": {},
     "output_type": "execute_result"
    }
   ],
   "source": [
    "top_ohe = top_df[:500].copy().drop(columns=['nrOfVotes', 'meanRating', 'myRating'])\n",
    "my_ohe = movies[movies.movieId.isin(my_df.movieId.values)].copy()\n",
    "\n",
    "for i in top_ohe.index:\n",
    "    raw = top_ohe.loc[i, 'genres']\n",
    "    multy = raw.split('|')\n",
    "    for w in multy:\n",
    "        top_ohe.loc[i, w] = True\n",
    "\n",
    "for i in my_ohe.index:\n",
    "    # Set ratings\n",
    "    movie_id = my_ohe.loc[i, 'movieId']\n",
    "    rating = my_df[(my_df['movieId'] == movie_id) & (my_df['userId'] == my_user_id)]\n",
    "    my_ohe.loc[i, 'rating'] = rating['rating'].values[0]\n",
    "    \n",
    "    raw = my_ohe.loc[i, 'genres']\n",
    "    multy = raw.split('|')\n",
    "    for w in multy:\n",
    "        my_ohe.loc[i, w] = True\n",
    "\n",
    "\n",
    "top_ohe.fillna(False, inplace=True)\n",
    "my_ohe.fillna(False, inplace=True)\n",
    "\n",
    "my_ohe.head(2)"
   ]
  },
  {
   "cell_type": "markdown",
   "metadata": {},
   "source": [
    "#### Find most frequent genres"
   ]
  },
  {
   "cell_type": "code",
   "execution_count": 26,
   "metadata": {},
   "outputs": [],
   "source": [
    "genres = list(top_ohe.columns[3:])\n",
    "genres = [(my_ohe[my_ohe[g]].rating.mean(), g) for g in genres]\n",
    "genres.sort()\n",
    "n_groups = len(genres)\n",
    "\n",
    "top_count = [sum(top_ohe[g[1]]) for g in genres]"
   ]
  },
  {
   "cell_type": "code",
   "execution_count": 27,
   "metadata": {
    "scrolled": true
   },
   "outputs": [
    {
     "data": {
      "image/png": "[encoded data removed]",
      "text/plain": [
       "<Figure size 432x288 with 1 Axes>"
      ]
     },
     "metadata": {},
     "output_type": "display_data"
    }
   ],
   "source": [
    "good = my_ohe[my_ohe['rating'] > 4]\n",
    "normal = my_ohe[(my_ohe['rating'] <= 4) & (my_ohe['rating'] > 2)]\n",
    "bad = my_ohe[my_ohe['rating'] <= 2]\n",
    "\n",
    "good_pct = len(good) * 100 / len(my_df)\n",
    "normal_pct = len(normal) * 100 / len(my_df)\n",
    "bad_pct = len(bad) * 100 / len(my_df)\n",
    "\n",
    "labels = 'Good', 'Average', 'Bad'\n",
    "fracs = [good_pct, normal_pct, bad_pct]\n",
    "colors = ['tab:green', 'gold', 'tab:red']\n",
    "\n",
    "plt.title('My ratings labeled', fontsize=14)\n",
    "plt.pie(fracs, labels=labels, autopct='%.0f%%', shadow=True, colors=colors, startangle=288)\n",
    "\n",
    "plt.savefig('images/plt_rating_pie.png')\n",
    "plt.show()"
   ]
  },
  {
   "cell_type": "markdown",
   "metadata": {},
   "source": [
    "### Plot genre frequencies"
   ]
  },
  {
   "cell_type": "code",
   "execution_count": 28,
   "metadata": {},
   "outputs": [
    {
     "data": {
      "image/png": "[encoded data removed]",
      "text/plain": [
       "<Figure size 576x576 with 1 Axes>"
      ]
     },
     "metadata": {
      "needs_background": "light"
     },
     "output_type": "display_data"
    }
   ],
   "source": [
    "my_count_good = [sum(good[g[1]]) for g in genres]\n",
    "my_count_normal = [sum(normal[g[1]]) for g in genres]\n",
    "my_count_bad = [sum(bad[g[1]]) for g in genres]\n",
    "my_count_not_good = [my_count_normal[i] + my_count_bad[i] for i in range(n_groups)]\n",
    "\n",
    "fig, ax = plt.subplots(figsize=(8, 8))\n",
    "\n",
    "index = np.arange(n_groups)\n",
    "bar_width = 0.4\n",
    "\n",
    "r0 = ax.barh(index + bar_width / 2, top_count, bar_width, color='tab:blue', label='Top 500')\n",
    "r1 = ax.barh(index - bar_width / 2, my_count_bad, bar_width, color='tab:red', label='My ratings, Bad')\n",
    "r2 = ax.barh(index - bar_width / 2, my_count_normal, bar_width, left=my_count_bad, color='gold', label='My ratings, Average')\n",
    "r3 = ax.barh(index - bar_width / 2, my_count_good, bar_width, left=my_count_not_good, color='tab:green', label='My ratings, Good')\n",
    "\n",
    "ax.set_xlabel('Nr of times movie with this genre is in Top 500 or in my rated movis')\n",
    "ax.set_yticks(np.arange(n_groups))\n",
    "ax.set_yticklabels([f'{g[1]}, {round(g[0], 1)}' for g in genres], fontsize=13)\n",
    "ax.tick_params(labeltop=True, labelright=False)\n",
    "ax.legend(fontsize=12)\n",
    "fig.tight_layout()\n",
    "\n",
    "plt.savefig('images/plt_genre_barh.png')\n",
    "plt.show()"
   ]
  },
  {
   "cell_type": "markdown",
   "metadata": {},
   "source": [
    "### Plot movie age\n",
    "movie_age = 0 means that the movie release year is same as year rated timestamp"
   ]
  },
  {
   "cell_type": "code",
   "execution_count": 29,
   "metadata": {
    "scrolled": true
   },
   "outputs": [
    {
     "data": {
      "text/html": [
       "<div>\n",
       "<style scoped>\n",
       "    .dataframe tbody tr th:only-of-type {\n",
       "        vertical-align: middle;\n",
       "    }\n",
       "\n",
       "    .dataframe tbody tr th {\n",
       "        vertical-align: top;\n",
       "    }\n",
       "\n",
       "    .dataframe thead th {\n",
       "        text-align: right;\n",
       "    }\n",
       "</style>\n",
       "<table border=\"1\" class=\"dataframe\">\n",
       "  <thead>\n",
       "    <tr style=\"text-align: right;\">\n",
       "      <th></th>\n",
       "      <th>userId</th>\n",
       "      <th>movieId</th>\n",
       "      <th>rating</th>\n",
       "      <th>timestamp</th>\n",
       "      <th>title</th>\n",
       "      <th>year</th>\n",
       "      <th>movie_age</th>\n",
       "    </tr>\n",
       "  </thead>\n",
       "  <tbody>\n",
       "    <tr>\n",
       "      <th>20000263</th>\n",
       "      <td>138494</td>\n",
       "      <td>318</td>\n",
       "      <td>5.0</td>\n",
       "      <td>1186876800</td>\n",
       "      <td>Shawshank Redemption, The (1994)</td>\n",
       "      <td>1994</td>\n",
       "      <td>13</td>\n",
       "    </tr>\n",
       "    <tr>\n",
       "      <th>20000264</th>\n",
       "      <td>138494</td>\n",
       "      <td>58554</td>\n",
       "      <td>5.0</td>\n",
       "      <td>1187740800</td>\n",
       "      <td>Class, The (Klass) (2007)</td>\n",
       "      <td>2007</td>\n",
       "      <td>0</td>\n",
       "    </tr>\n",
       "  </tbody>\n",
       "</table>\n",
       "</div>"
      ],
      "text/plain": [
       "          userId  movieId  rating   timestamp  \\\n",
       "20000263  138494      318     5.0  1186876800   \n",
       "20000264  138494    58554     5.0  1187740800   \n",
       "\n",
       "                                     title  year  movie_age  \n",
       "20000263  Shawshank Redemption, The (1994)  1994         13  \n",
       "20000264         Class, The (Klass) (2007)  2007          0  "
      ]
     },
     "execution_count": 29,
     "metadata": {},
     "output_type": "execute_result"
    }
   ],
   "source": [
    "my_df.loc[:,'year'] = my_df.title.str[-5:-1]\n",
    "date_rated = (my_df['timestamp']*1000000000).astype('datetime64[ns]')\n",
    "year_rated = date_rated.astype('str').str[:4].astype(int)\n",
    "my_df.loc[:, 'movie_age'] = year_rated - my_df.year.astype(int)\n",
    "\n",
    "my_df.head(2)"
   ]
  },
  {
   "cell_type": "code",
   "execution_count": 30,
   "metadata": {},
   "outputs": [
    {
     "data": {
      "image/png": "[encoded data removed]",
      "text/plain": [
       "<Figure size 432x288 with 2 Axes>"
      ]
     },
     "metadata": {
      "needs_background": "light"
     },
     "output_type": "display_data"
    }
   ],
   "source": [
    "# Data for plotting\n",
    "range_year = range(11)\n",
    "rating_year = [round(my_df[my_df.movie_age == i].rating.mean() * 2, 2) for i in range_year]\n",
    "views_year = [my_df[my_df.movie_age == i].rating.count() for i in range_year]\n",
    "\n",
    "fig, ax1 = plt.subplots()\n",
    "\n",
    "color = 'tab:red'\n",
    "ax1.set_xlabel('Movie age when rated', fontsize=14)\n",
    "ax1.set_ylabel('Average rating', color=color, fontsize=14)\n",
    "ax1.plot(range_year, rating_year, color=color)\n",
    "ax1.tick_params(axis='y', labelcolor=color)\n",
    "ax1.set_yticks(np.arange(1, 11))\n",
    "\n",
    "# instantiate a second axes that shares the same x-axis\n",
    "ax2 = ax1.twinx()  \n",
    "\n",
    "color = 'tab:blue'\n",
    "ax2.set_ylabel('Nr of movies rated', color=color, fontsize=14)  \n",
    "ax2.plot(range_year, views_year, color=color)\n",
    "ax2.tick_params(axis='y', labelcolor=color)\n",
    "fig.tight_layout()\n",
    "\n",
    "plt.savefig('images/plt_age_plot.png')\n",
    "plt.show()"
   ]
  },
  {
   "cell_type": "markdown",
   "metadata": {},
   "source": [
    "&nbsp;\n",
    "# Collaborative filtering\n",
    "&nbsp;"
   ]
  },
  {
   "cell_type": "code",
   "execution_count": 1,
   "metadata": {},
   "outputs": [],
   "source": [
    "from fastai import *\n",
    "from fastai.collab import *\n",
    "from fastai.collab import CollabLearner\n",
    "from fastai.tabular import *"
   ]
  },
  {
   "cell_type": "markdown",
   "metadata": {},
   "source": [
    "Dot model for collaborative filtering"
   ]
  },
  {
   "cell_type": "code",
   "execution_count": 2,
   "metadata": {},
   "outputs": [],
   "source": [
    "class EmbeddingDotBias(nn.Module):\n",
    "    def __init__(self, n_factors:int, n_users:int, n_items:int, y_range:Tuple[float,float]):\n",
    "        super().__init__()\n",
    "        self.y_range = y_range\n",
    "        (self.u_weight, self.i_weight, self.u_bias, self.i_bias) = [embedding(*o) for o in [\n",
    "            (n_users, n_factors), (n_items, n_factors), (n_users,1), (n_items,1)]]\n",
    "\n",
    "    def forward(self, users:LongTensor, items:LongTensor) -> Tensor:\n",
    "        dot = self.u_weight(users) * self.i_weight(items)\n",
    "        res = dot.sum(1) + self.u_bias(users).squeeze() + self.i_bias(items).squeeze()\n",
    "        return torch.sigmoid(res) * (self.y_range[1]-self.y_range[0]) + self.y_range[0]"
   ]
  },
  {
   "cell_type": "code",
   "execution_count": 3,
   "metadata": {},
   "outputs": [],
   "source": [
    "# Load DataFrames\n",
    "selected_2m = pd.read_pickle('data/selected_2m.pkl')"
   ]
  },
  {
   "cell_type": "code",
   "execution_count": 4,
   "metadata": {},
   "outputs": [
    {
     "data": {
      "text/html": [
       "<table>  <col width='10%'>  <col width='10%'>  <col width='10%'>  <tr>\n",
       "    <th>userId</th>\n",
       "    <th>movieId</th>\n",
       "    <th>target</th>\n",
       "  </tr>\n",
       "  <tr>\n",
       "    <th>132331</th>\n",
       "    <th>4886</th>\n",
       "    <th>3.5</th>\n",
       "  </tr>\n",
       "  <tr>\n",
       "    <th>63858</th>\n",
       "    <th>3704</th>\n",
       "    <th>3.5</th>\n",
       "  </tr>\n",
       "</table>\n"
      ],
      "text/plain": [
       "<IPython.core.display.HTML object>"
      ]
     },
     "metadata": {},
     "output_type": "display_data"
    }
   ],
   "source": [
    "data = CollabDataBunch.from_df(selected_2m, seed=1, pct_val=0.1)\n",
    "data.show_batch(2)"
   ]
  },
  {
   "cell_type": "code",
   "execution_count": 5,
   "metadata": {},
   "outputs": [],
   "source": [
    "u,m = data.classes.values()\n",
    "n_factors=30\n",
    "y_range = (0.0, 5.5)\n",
    "model = EmbeddingDotBias(n_factors, len(u), len(m), y_range=y_range)\n",
    "wd=0.01\n",
    "learn = CollabLearner(data, model, wd=wd)"
   ]
  },
  {
   "cell_type": "code",
   "execution_count": 6,
   "metadata": {},
   "outputs": [
    {
     "data": {
      "text/html": [
       "Total time: 05:56 <p><table style='width:300px; margin-bottom:10px'>\n",
       "  <tr>\n",
       "    <th>epoch</th>\n",
       "    <th>train_loss</th>\n",
       "    <th>valid_loss</th>\n",
       "  </tr>\n",
       "  <tr>\n",
       "    <th>1</th>\n",
       "    <th>0.600761</th>\n",
       "    <th>0.616277</th>\n",
       "  </tr>\n",
       "  <tr>\n",
       "    <th>2</th>\n",
       "    <th>0.513325</th>\n",
       "    <th>0.529996</th>\n",
       "  </tr>\n",
       "  <tr>\n",
       "\n",
       "  </tr>\n",
       "</table>\n"
      ],
      "text/plain": [
       "<IPython.core.display.HTML object>"
      ]
     },
     "metadata": {},
     "output_type": "display_data"
    }
   ],
   "source": [
    "learn.fit_one_cycle(2, 5e-3, wd=wd)"
   ]
  },
  {
   "cell_type": "code",
   "execution_count": null,
   "metadata": {},
   "outputs": [],
   "source": [
    "#learn.save('learn_100k_5_')"
   ]
  },
  {
   "cell_type": "code",
   "execution_count": 7,
   "metadata": {},
   "outputs": [],
   "source": [
    "# learn_dataset_epoch_lr_wd_loss\n",
    "learn = learn.load('learn_100k_5_0002_01_0.84')"
   ]
  },
  {
   "cell_type": "markdown",
   "metadata": {},
   "source": [
    "### Interpretation"
   ]
  },
  {
   "cell_type": "code",
   "execution_count": 7,
   "metadata": {
    "scrolled": false
   },
   "outputs": [
    {
     "data": {
      "text/plain": [
       "EmbeddingDotBias(\n",
       "  (u_weight): Embedding(4001, 30)\n",
       "  (i_weight): Embedding(1001, 30)\n",
       "  (u_bias): Embedding(4001, 1)\n",
       "  (i_bias): Embedding(1001, 1)\n",
       ")"
      ]
     },
     "execution_count": 7,
     "metadata": {},
     "output_type": "execute_result"
    }
   ],
   "source": [
    "learn.model"
   ]
  },
  {
   "cell_type": "code",
   "execution_count": 8,
   "metadata": {},
   "outputs": [],
   "source": [
    "u, m = data.train_ds.x.classes.values()\n",
    "m = m[1:]"
   ]
  },
  {
   "cell_type": "code",
   "execution_count": 9,
   "metadata": {},
   "outputs": [
    {
     "name": "stdout",
     "output_type": "stream",
     "text": [
      "torch.Size([1000]) torch.Size([1000, 30]) torch.Size([]) torch.Size([1, 30])\n"
     ]
    }
   ],
   "source": [
    "my_user_id = [str(selected_2m.userId.max())]\n",
    "top_movies_bias = learn.bias(m, is_item=True)\n",
    "top_movies_weight = learn.weight(m, is_item=True)\n",
    "my_user_bias = learn.bias(my_user_id, is_item=False)\n",
    "my_user_weight = learn.weight(my_user_id, is_item=False)\n",
    "\n",
    "print(top_movies_bias.shape, top_movies_weight.shape, my_user_bias.shape, my_user_weight.shape)"
   ]
  },
  {
   "cell_type": "code",
   "execution_count": 10,
   "metadata": {},
   "outputs": [
    {
     "name": "stdout",
     "output_type": "stream",
     "text": [
      "torch.Size([1000])\n"
     ]
    }
   ],
   "source": [
    "dot = top_movies_weight * my_user_weight\n",
    "res = dot.sum(1) + my_user_bias.squeeze() + top_movies_bias.squeeze()\n",
    "sig_res = torch.sigmoid(res) * (y_range[1]-y_range[0]) + y_range[0]\n",
    "\n",
    "print(sig_res.shape)"
   ]
  },
  {
   "cell_type": "code",
   "execution_count": 11,
   "metadata": {},
   "outputs": [
    {
     "data": {
      "text/html": [
       "<div>\n",
       "<style scoped>\n",
       "    .dataframe tbody tr th:only-of-type {\n",
       "        vertical-align: middle;\n",
       "    }\n",
       "\n",
       "    .dataframe tbody tr th {\n",
       "        vertical-align: top;\n",
       "    }\n",
       "\n",
       "    .dataframe thead th {\n",
       "        text-align: right;\n",
       "    }\n",
       "</style>\n",
       "<table border=\"1\" class=\"dataframe\">\n",
       "  <thead>\n",
       "    <tr style=\"text-align: right;\">\n",
       "      <th></th>\n",
       "      <th>Const</th>\n",
       "      <th>Your Rating</th>\n",
       "      <th>Date Rated</th>\n",
       "      <th>Title</th>\n",
       "      <th>URL</th>\n",
       "      <th>Title Type</th>\n",
       "      <th>IMDb Rating</th>\n",
       "      <th>Runtime (mins)</th>\n",
       "      <th>Year</th>\n",
       "      <th>Genres</th>\n",
       "      <th>Num Votes</th>\n",
       "      <th>Release Date</th>\n",
       "      <th>Directors</th>\n",
       "      <th>userId</th>\n",
       "      <th>rating</th>\n",
       "      <th>timestamp</th>\n",
       "      <th>imdbId</th>\n",
       "      <th>movieId</th>\n",
       "      <th>tmdbId</th>\n",
       "    </tr>\n",
       "  </thead>\n",
       "  <tbody>\n",
       "    <tr>\n",
       "      <th>0</th>\n",
       "      <td>tt0111161</td>\n",
       "      <td>10</td>\n",
       "      <td>2007-08-12</td>\n",
       "      <td>The Shawshank Redemption</td>\n",
       "      <td>https://www.imdb.com/title/tt0111161/</td>\n",
       "      <td>movie</td>\n",
       "      <td>9.3</td>\n",
       "      <td>142.0</td>\n",
       "      <td>1994</td>\n",
       "      <td>Drama</td>\n",
       "      <td>2034334</td>\n",
       "      <td>1994-09-10</td>\n",
       "      <td>Frank Darabont</td>\n",
       "      <td>138494</td>\n",
       "      <td>5.0</td>\n",
       "      <td>1186876800</td>\n",
       "      <td>111161</td>\n",
       "      <td>318</td>\n",
       "      <td>278.0</td>\n",
       "    </tr>\n",
       "  </tbody>\n",
       "</table>\n",
       "</div>"
      ],
      "text/plain": [
       "       Const  Your Rating  Date Rated                     Title  \\\n",
       "0  tt0111161           10  2007-08-12  The Shawshank Redemption   \n",
       "\n",
       "                                     URL Title Type  IMDb Rating  \\\n",
       "0  https://www.imdb.com/title/tt0111161/      movie          9.3   \n",
       "\n",
       "   Runtime (mins)  Year Genres  Num Votes Release Date       Directors  \\\n",
       "0           142.0  1994  Drama    2034334   1994-09-10  Frank Darabont   \n",
       "\n",
       "   userId  rating   timestamp  imdbId  movieId  tmdbId  \n",
       "0  138494     5.0  1186876800  111161      318   278.0  "
      ]
     },
     "execution_count": 11,
     "metadata": {},
     "output_type": "execute_result"
    }
   ],
   "source": [
    "my_movies = pd.read_pickle('data/my_movies_full_df.pkl')\n",
    "my_movies.head(1)"
   ]
  },
  {
   "cell_type": "code",
   "execution_count": 21,
   "metadata": {},
   "outputs": [
    {
     "data": {
      "text/plain": [
       "'Dracula: Dead and Loving It (1995)'"
      ]
     },
     "execution_count": 21,
     "metadata": {},
     "output_type": "execute_result"
    }
   ],
   "source": [
    "movies[movies.movieId == int(12)]['title'].values[0]"
   ]
  },
  {
   "cell_type": "code",
   "execution_count": 23,
   "metadata": {},
   "outputs": [
    {
     "data": {
      "text/plain": [
       "[(10, 10, 'Shawshank Redemption, The (1994)'),\n",
       " (10, 10, 'Life Is Beautiful (La Vita Ã¨ bella) (1997)'),\n",
       " (10, 10, 'Forrest Gump (1994)'),\n",
       " (10, 10, 'Fight Club (1999)'),\n",
       " (10, 10, 'American History X (1998)'),\n",
       " (10, 10, 'American Beauty (1999)'),\n",
       " (10, 9, 'Usual Suspects, The (1995)'),\n",
       " (10, 9, 'Crash (2004)'),\n",
       " (10, 9, \"Amelie (Fabuleux destin d'AmÃ©lie Poulain, Le) (2001)\"),\n",
       " (9, 10, 'Vanilla Sky (2001)')]"
      ]
     },
     "execution_count": 23,
     "metadata": {},
     "output_type": "execute_result"
    }
   ],
   "source": [
    "movie_rec = []\n",
    "for mm, rr in zip(m, sig_res):\n",
    "    \n",
    "    if not my_movies[my_movies.movieId == int(mm)].empty:\n",
    "        movie_rec.append((round(rr.item() * 2), my_movies[my_movies.movieId == int(mm)]['Your Rating'].values[0], movies[movies.movieId == int(mm)]['title'].values[0]))\n",
    "\n",
    "\n",
    "movie_rec = sorted(movie_rec, reverse=True)\n",
    "movie_rec[:10]"
   ]
  },
  {
   "cell_type": "markdown",
   "metadata": {},
   "source": [
    "#### Movie mean rating"
   ]
  },
  {
   "cell_type": "code",
   "execution_count": null,
   "metadata": {},
   "outputs": [],
   "source": [
    "means = all_df.groupby('title')['rating'].mean().round(2)\n",
    "means.head()"
   ]
  },
  {
   "cell_type": "markdown",
   "metadata": {},
   "source": [
    "#### Movie Bias"
   ]
  },
  {
   "cell_type": "code",
   "execution_count": null,
   "metadata": {
    "scrolled": true
   },
   "outputs": [],
   "source": [
    "movie_bias = learn.bias(top_movies, is_item=True)"
   ]
  },
  {
   "cell_type": "code",
   "execution_count": null,
   "metadata": {
    "scrolled": true
   },
   "outputs": [],
   "source": [
    "stats = [(i, means[i], np.round(e.item(), decimals=2)) for i, e in zip(top_movies, movie_bias)]\n",
    "print('title, mean ratings, bias')\n",
    "stats[:5]"
   ]
  },
  {
   "cell_type": "code",
   "execution_count": null,
   "metadata": {},
   "outputs": [],
   "source": []
  }
 ],
 "metadata": {
  "kernelspec": {
   "display_name": "Python 3",
   "language": "python",
   "name": "python3"
  },
  "language_info": {
   "codemirror_mode": {
    "name": "ipython",
    "version": 3
   },
   "file_extension": ".py",
   "mimetype": "text/x-python",
   "name": "python",
   "nbconvert_exporter": "python",
   "pygments_lexer": "ipython3",
   "version": "3.6.6"
  }
 },
 "nbformat": 4,
 "nbformat_minor": 2
}
