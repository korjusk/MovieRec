{
 "cells": [
  {
   "cell_type": "markdown",
   "metadata": {},
   "source": [
    "## MovieRec"
   ]
  },
  {
   "cell_type": "markdown",
   "metadata": {},
   "source": [
    "In this notebook, I'll build a deep learning model movie recommendations system on the MovieLens 20M dataset."
   ]
  },
  {
   "cell_type": "code",
   "execution_count": 1,
   "metadata": {},
   "outputs": [],
   "source": [
    "from fastai import *\n",
    "from fastai.collab import *\n",
    "from fastai.tabular import *"
   ]
  },
  {
   "cell_type": "markdown",
   "metadata": {},
   "source": [
    "### Loading MovieLens 20m dataset\n",
    "Download [link](http://files.grouplens.org/datasets/movielens/ml-20m.zip) and dataset [readme.](http://files.grouplens.org/datasets/movielens/ml-20m-README.html)"
   ]
  },
  {
   "cell_type": "code",
   "execution_count": 2,
   "metadata": {
    "scrolled": true
   },
   "outputs": [
    {
     "name": "stdout",
     "output_type": "stream",
     "text": [
      "README.txt\t   genome-tags.csv  movies.csv\t tags.csv\r\n",
      "genome-scores.csv  links.csv\t    ratings.csv\r\n"
     ]
    }
   ],
   "source": [
    "path = 'data/'\n",
    "ml20 = path + 'ml-20m/' \n",
    "!ls {ml20}"
   ]
  },
  {
   "cell_type": "markdown",
   "metadata": {},
   "source": [
    "#### ratings.csv"
   ]
  },
  {
   "cell_type": "code",
   "execution_count": 3,
   "metadata": {},
   "outputs": [
    {
     "name": "stdout",
     "output_type": "stream",
     "text": [
      "Size: 20000263\n"
     ]
    },
    {
     "data": {
      "text/html": [
       "<div>\n",
       "<style scoped>\n",
       "    .dataframe tbody tr th:only-of-type {\n",
       "        vertical-align: middle;\n",
       "    }\n",
       "\n",
       "    .dataframe tbody tr th {\n",
       "        vertical-align: top;\n",
       "    }\n",
       "\n",
       "    .dataframe thead th {\n",
       "        text-align: right;\n",
       "    }\n",
       "</style>\n",
       "<table border=\"1\" class=\"dataframe\">\n",
       "  <thead>\n",
       "    <tr style=\"text-align: right;\">\n",
       "      <th></th>\n",
       "      <th>userId</th>\n",
       "      <th>movieId</th>\n",
       "      <th>rating</th>\n",
       "      <th>timestamp</th>\n",
       "    </tr>\n",
       "  </thead>\n",
       "  <tbody>\n",
       "    <tr>\n",
       "      <th>0</th>\n",
       "      <td>1</td>\n",
       "      <td>2</td>\n",
       "      <td>3.5</td>\n",
       "      <td>1112486027</td>\n",
       "    </tr>\n",
       "    <tr>\n",
       "      <th>1</th>\n",
       "      <td>1</td>\n",
       "      <td>29</td>\n",
       "      <td>3.5</td>\n",
       "      <td>1112484676</td>\n",
       "    </tr>\n",
       "  </tbody>\n",
       "</table>\n",
       "</div>"
      ],
      "text/plain": [
       "   userId  movieId  rating   timestamp\n",
       "0       1        2     3.5  1112486027\n",
       "1       1       29     3.5  1112484676"
      ]
     },
     "execution_count": 3,
     "metadata": {},
     "output_type": "execute_result"
    }
   ],
   "source": [
    "ratings = pd.read_csv(ml20 + 'ratings.csv', encoding='latin-1')\n",
    "print('Size:', len(ratings))\n",
    "ratings.head(2)"
   ]
  },
  {
   "cell_type": "markdown",
   "metadata": {},
   "source": [
    "#### movies.csv"
   ]
  },
  {
   "cell_type": "code",
   "execution_count": 4,
   "metadata": {},
   "outputs": [
    {
     "name": "stdout",
     "output_type": "stream",
     "text": [
      "Size: 27278\n"
     ]
    },
    {
     "data": {
      "text/html": [
       "<div>\n",
       "<style scoped>\n",
       "    .dataframe tbody tr th:only-of-type {\n",
       "        vertical-align: middle;\n",
       "    }\n",
       "\n",
       "    .dataframe tbody tr th {\n",
       "        vertical-align: top;\n",
       "    }\n",
       "\n",
       "    .dataframe thead th {\n",
       "        text-align: right;\n",
       "    }\n",
       "</style>\n",
       "<table border=\"1\" class=\"dataframe\">\n",
       "  <thead>\n",
       "    <tr style=\"text-align: right;\">\n",
       "      <th></th>\n",
       "      <th>movieId</th>\n",
       "      <th>title</th>\n",
       "      <th>genres</th>\n",
       "    </tr>\n",
       "  </thead>\n",
       "  <tbody>\n",
       "    <tr>\n",
       "      <th>0</th>\n",
       "      <td>1</td>\n",
       "      <td>Toy Story (1995)</td>\n",
       "      <td>Adventure|Animation|Children|Comedy|Fantasy</td>\n",
       "    </tr>\n",
       "    <tr>\n",
       "      <th>1</th>\n",
       "      <td>2</td>\n",
       "      <td>Jumanji (1995)</td>\n",
       "      <td>Adventure|Children|Fantasy</td>\n",
       "    </tr>\n",
       "  </tbody>\n",
       "</table>\n",
       "</div>"
      ],
      "text/plain": [
       "   movieId             title                                       genres\n",
       "0        1  Toy Story (1995)  Adventure|Animation|Children|Comedy|Fantasy\n",
       "1        2    Jumanji (1995)                   Adventure|Children|Fantasy"
      ]
     },
     "execution_count": 4,
     "metadata": {},
     "output_type": "execute_result"
    }
   ],
   "source": [
    "movies = pd.read_csv(ml20 + 'movies.csv', encoding='latin-1')\n",
    "print('Size:', len(movies))\n",
    "movies.head(2)"
   ]
  },
  {
   "cell_type": "markdown",
   "metadata": {},
   "source": [
    "#### links.csv"
   ]
  },
  {
   "cell_type": "code",
   "execution_count": 5,
   "metadata": {},
   "outputs": [
    {
     "name": "stdout",
     "output_type": "stream",
     "text": [
      "Size: 27278\n"
     ]
    },
    {
     "data": {
      "text/html": [
       "<div>\n",
       "<style scoped>\n",
       "    .dataframe tbody tr th:only-of-type {\n",
       "        vertical-align: middle;\n",
       "    }\n",
       "\n",
       "    .dataframe tbody tr th {\n",
       "        vertical-align: top;\n",
       "    }\n",
       "\n",
       "    .dataframe thead th {\n",
       "        text-align: right;\n",
       "    }\n",
       "</style>\n",
       "<table border=\"1\" class=\"dataframe\">\n",
       "  <thead>\n",
       "    <tr style=\"text-align: right;\">\n",
       "      <th></th>\n",
       "      <th>movieId</th>\n",
       "      <th>imdbId</th>\n",
       "      <th>tmdbId</th>\n",
       "    </tr>\n",
       "  </thead>\n",
       "  <tbody>\n",
       "    <tr>\n",
       "      <th>0</th>\n",
       "      <td>1</td>\n",
       "      <td>114709</td>\n",
       "      <td>862.0</td>\n",
       "    </tr>\n",
       "    <tr>\n",
       "      <th>1</th>\n",
       "      <td>2</td>\n",
       "      <td>113497</td>\n",
       "      <td>8844.0</td>\n",
       "    </tr>\n",
       "  </tbody>\n",
       "</table>\n",
       "</div>"
      ],
      "text/plain": [
       "   movieId  imdbId  tmdbId\n",
       "0        1  114709   862.0\n",
       "1        2  113497  8844.0"
      ]
     },
     "execution_count": 5,
     "metadata": {},
     "output_type": "execute_result"
    }
   ],
   "source": [
    "links = pd.read_csv(ml20 + 'links.csv', encoding='latin-1')\n",
    "print('Size:', len(links))\n",
    "links.head(2)"
   ]
  },
  {
   "cell_type": "markdown",
   "metadata": {},
   "source": [
    "#### Or load 100k dataset"
   ]
  },
  {
   "cell_type": "code",
   "execution_count": 6,
   "metadata": {},
   "outputs": [],
   "source": [
    "ml100 = path + 'ml-100k/' \n",
    "r_names = ['userId','movieId','rating','timestamp']\n",
    "m_names = ['movieId', 'title', 'date', 'N', 'url', *[f'g{i}' for i in range(19)]]\n",
    "#ratings = pd.read_csv(ml100 + 'u.data', delimiter='\\t', header=None, names=r_names)\n",
    "#movies = pd.read_csv(ml100 + 'u.item',  delimiter='|', encoding='latin-1', header=None, names=m_names)"
   ]
  },
  {
   "cell_type": "markdown",
   "metadata": {},
   "source": [
    "### Loading my [IMDb ratings](https://www.imdb.com/user/ur15834927/ratings)"
   ]
  },
  {
   "cell_type": "code",
   "execution_count": 7,
   "metadata": {},
   "outputs": [
    {
     "name": "stdout",
     "output_type": "stream",
     "text": [
      "Size: 568\n"
     ]
    }
   ],
   "source": [
    "my_ratings = pd.read_csv(path + 'my_ratings.csv', encoding='latin-1')\n",
    "my_ratings = my_ratings.sort_values('Date Rated').reset_index(drop=True)\n",
    "print('Size:', len(my_ratings))"
   ]
  },
  {
   "cell_type": "markdown",
   "metadata": {},
   "source": [
    "#### First and last movie I rated"
   ]
  },
  {
   "cell_type": "code",
   "execution_count": 8,
   "metadata": {},
   "outputs": [
    {
     "data": {
      "text/html": [
       "<div>\n",
       "<style scoped>\n",
       "    .dataframe tbody tr th:only-of-type {\n",
       "        vertical-align: middle;\n",
       "    }\n",
       "\n",
       "    .dataframe tbody tr th {\n",
       "        vertical-align: top;\n",
       "    }\n",
       "\n",
       "    .dataframe thead th {\n",
       "        text-align: right;\n",
       "    }\n",
       "</style>\n",
       "<table border=\"1\" class=\"dataframe\">\n",
       "  <thead>\n",
       "    <tr style=\"text-align: right;\">\n",
       "      <th></th>\n",
       "      <th>Const</th>\n",
       "      <th>Your Rating</th>\n",
       "      <th>Date Rated</th>\n",
       "      <th>Title</th>\n",
       "      <th>URL</th>\n",
       "      <th>Title Type</th>\n",
       "      <th>IMDb Rating</th>\n",
       "      <th>Runtime (mins)</th>\n",
       "      <th>Year</th>\n",
       "      <th>Genres</th>\n",
       "      <th>Num Votes</th>\n",
       "      <th>Release Date</th>\n",
       "      <th>Directors</th>\n",
       "    </tr>\n",
       "  </thead>\n",
       "  <tbody>\n",
       "    <tr>\n",
       "      <th>0</th>\n",
       "      <td>tt0111161</td>\n",
       "      <td>10</td>\n",
       "      <td>2007-08-12</td>\n",
       "      <td>The Shawshank Redemption</td>\n",
       "      <td>https://www.imdb.com/title/tt0111161/</td>\n",
       "      <td>movie</td>\n",
       "      <td>9.3</td>\n",
       "      <td>142.0</td>\n",
       "      <td>1994</td>\n",
       "      <td>Drama</td>\n",
       "      <td>2034334</td>\n",
       "      <td>1994-09-10</td>\n",
       "      <td>Frank Darabont</td>\n",
       "    </tr>\n",
       "    <tr>\n",
       "      <th>567</th>\n",
       "      <td>tt2397535</td>\n",
       "      <td>10</td>\n",
       "      <td>2015-11-28</td>\n",
       "      <td>Predestination</td>\n",
       "      <td>https://www.imdb.com/title/tt2397535/</td>\n",
       "      <td>movie</td>\n",
       "      <td>7.5</td>\n",
       "      <td>97.0</td>\n",
       "      <td>2014</td>\n",
       "      <td>Drama, Mystery, Sci-Fi, Thriller</td>\n",
       "      <td>218780</td>\n",
       "      <td>2014-03-08</td>\n",
       "      <td>Michael Spierig, Peter Spierig</td>\n",
       "    </tr>\n",
       "  </tbody>\n",
       "</table>\n",
       "</div>"
      ],
      "text/plain": [
       "         Const  Your Rating  Date Rated                     Title  \\\n",
       "0    tt0111161           10  2007-08-12  The Shawshank Redemption   \n",
       "567  tt2397535           10  2015-11-28            Predestination   \n",
       "\n",
       "                                       URL Title Type  IMDb Rating  \\\n",
       "0    https://www.imdb.com/title/tt0111161/      movie          9.3   \n",
       "567  https://www.imdb.com/title/tt2397535/      movie          7.5   \n",
       "\n",
       "     Runtime (mins)  Year                            Genres  Num Votes  \\\n",
       "0             142.0  1994                             Drama    2034334   \n",
       "567            97.0  2014  Drama, Mystery, Sci-Fi, Thriller     218780   \n",
       "\n",
       "    Release Date                       Directors  \n",
       "0     1994-09-10                  Frank Darabont  \n",
       "567   2014-03-08  Michael Spierig, Peter Spierig  "
      ]
     },
     "execution_count": 8,
     "metadata": {},
     "output_type": "execute_result"
    }
   ],
   "source": [
    "my_ratings.iloc[[0, -1]]"
   ]
  },
  {
   "cell_type": "code",
   "execution_count": 9,
   "metadata": {
    "scrolled": true
   },
   "outputs": [
    {
     "data": {
      "text/html": [
       "<div>\n",
       "<style scoped>\n",
       "    .dataframe tbody tr th:only-of-type {\n",
       "        vertical-align: middle;\n",
       "    }\n",
       "\n",
       "    .dataframe tbody tr th {\n",
       "        vertical-align: top;\n",
       "    }\n",
       "\n",
       "    .dataframe thead th {\n",
       "        text-align: right;\n",
       "    }\n",
       "</style>\n",
       "<table border=\"1\" class=\"dataframe\">\n",
       "  <thead>\n",
       "    <tr style=\"text-align: right;\">\n",
       "      <th></th>\n",
       "      <th>Your Rating</th>\n",
       "      <th>IMDb Rating</th>\n",
       "      <th>Runtime (mins)</th>\n",
       "      <th>Year</th>\n",
       "      <th>Num Votes</th>\n",
       "    </tr>\n",
       "  </thead>\n",
       "  <tbody>\n",
       "    <tr>\n",
       "      <th>count</th>\n",
       "      <td>568.0</td>\n",
       "      <td>568.0</td>\n",
       "      <td>565.0</td>\n",
       "      <td>568.0</td>\n",
       "      <td>568.0</td>\n",
       "    </tr>\n",
       "    <tr>\n",
       "      <th>mean</th>\n",
       "      <td>8.0</td>\n",
       "      <td>7.6</td>\n",
       "      <td>109.4</td>\n",
       "      <td>2002.2</td>\n",
       "      <td>323541.1</td>\n",
       "    </tr>\n",
       "    <tr>\n",
       "      <th>std</th>\n",
       "      <td>1.9</td>\n",
       "      <td>0.9</td>\n",
       "      <td>37.7</td>\n",
       "      <td>10.3</td>\n",
       "      <td>332702.2</td>\n",
       "    </tr>\n",
       "    <tr>\n",
       "      <th>min</th>\n",
       "      <td>1.0</td>\n",
       "      <td>1.6</td>\n",
       "      <td>8.0</td>\n",
       "      <td>1942.0</td>\n",
       "      <td>13.0</td>\n",
       "    </tr>\n",
       "    <tr>\n",
       "      <th>25%</th>\n",
       "      <td>7.0</td>\n",
       "      <td>7.1</td>\n",
       "      <td>96.0</td>\n",
       "      <td>1999.8</td>\n",
       "      <td>84620.5</td>\n",
       "    </tr>\n",
       "    <tr>\n",
       "      <th>50%</th>\n",
       "      <td>8.0</td>\n",
       "      <td>7.7</td>\n",
       "      <td>108.0</td>\n",
       "      <td>2005.0</td>\n",
       "      <td>215472.0</td>\n",
       "    </tr>\n",
       "    <tr>\n",
       "      <th>75%</th>\n",
       "      <td>10.0</td>\n",
       "      <td>8.1</td>\n",
       "      <td>125.0</td>\n",
       "      <td>2008.0</td>\n",
       "      <td>454300.2</td>\n",
       "    </tr>\n",
       "    <tr>\n",
       "      <th>max</th>\n",
       "      <td>10.0</td>\n",
       "      <td>9.5</td>\n",
       "      <td>533.0</td>\n",
       "      <td>2014.0</td>\n",
       "      <td>2034334.0</td>\n",
       "    </tr>\n",
       "  </tbody>\n",
       "</table>\n",
       "</div>"
      ],
      "text/plain": [
       "       Your Rating  IMDb Rating  Runtime (mins)    Year  Num Votes\n",
       "count        568.0        568.0           565.0   568.0      568.0\n",
       "mean           8.0          7.6           109.4  2002.2   323541.1\n",
       "std            1.9          0.9            37.7    10.3   332702.2\n",
       "min            1.0          1.6             8.0  1942.0       13.0\n",
       "25%            7.0          7.1            96.0  1999.8    84620.5\n",
       "50%            8.0          7.7           108.0  2005.0   215472.0\n",
       "75%           10.0          8.1           125.0  2008.0   454300.2\n",
       "max           10.0          9.5           533.0  2014.0  2034334.0"
      ]
     },
     "execution_count": 9,
     "metadata": {},
     "output_type": "execute_result"
    }
   ],
   "source": [
    "my_ratings.describe().round(decimals=1)"
   ]
  },
  {
   "cell_type": "markdown",
   "metadata": {},
   "source": [
    "### Format my_ratings"
   ]
  },
  {
   "cell_type": "markdown",
   "metadata": {},
   "source": [
    "#### Add userId, rating, timestamp and imdbId to my_ratings"
   ]
  },
  {
   "cell_type": "code",
   "execution_count": 10,
   "metadata": {},
   "outputs": [
    {
     "data": {
      "text/html": [
       "<div>\n",
       "<style scoped>\n",
       "    .dataframe tbody tr th:only-of-type {\n",
       "        vertical-align: middle;\n",
       "    }\n",
       "\n",
       "    .dataframe tbody tr th {\n",
       "        vertical-align: top;\n",
       "    }\n",
       "\n",
       "    .dataframe thead th {\n",
       "        text-align: right;\n",
       "    }\n",
       "</style>\n",
       "<table border=\"1\" class=\"dataframe\">\n",
       "  <thead>\n",
       "    <tr style=\"text-align: right;\">\n",
       "      <th></th>\n",
       "      <th>Const</th>\n",
       "      <th>Your Rating</th>\n",
       "      <th>Date Rated</th>\n",
       "      <th>Title</th>\n",
       "      <th>URL</th>\n",
       "      <th>Title Type</th>\n",
       "      <th>IMDb Rating</th>\n",
       "      <th>Runtime (mins)</th>\n",
       "      <th>Year</th>\n",
       "      <th>Genres</th>\n",
       "      <th>Num Votes</th>\n",
       "      <th>Release Date</th>\n",
       "      <th>Directors</th>\n",
       "      <th>userId</th>\n",
       "      <th>rating</th>\n",
       "      <th>timestamp</th>\n",
       "      <th>imdbId</th>\n",
       "    </tr>\n",
       "  </thead>\n",
       "  <tbody>\n",
       "    <tr>\n",
       "      <th>0</th>\n",
       "      <td>tt0111161</td>\n",
       "      <td>10</td>\n",
       "      <td>2007-08-12</td>\n",
       "      <td>The Shawshank Redemption</td>\n",
       "      <td>https://www.imdb.com/title/tt0111161/</td>\n",
       "      <td>movie</td>\n",
       "      <td>9.3</td>\n",
       "      <td>142.0</td>\n",
       "      <td>1994</td>\n",
       "      <td>Drama</td>\n",
       "      <td>2034334</td>\n",
       "      <td>1994-09-10</td>\n",
       "      <td>Frank Darabont</td>\n",
       "      <td>138494</td>\n",
       "      <td>5.0</td>\n",
       "      <td>1186876800</td>\n",
       "      <td>111161</td>\n",
       "    </tr>\n",
       "    <tr>\n",
       "      <th>567</th>\n",
       "      <td>tt2397535</td>\n",
       "      <td>10</td>\n",
       "      <td>2015-11-28</td>\n",
       "      <td>Predestination</td>\n",
       "      <td>https://www.imdb.com/title/tt2397535/</td>\n",
       "      <td>movie</td>\n",
       "      <td>7.5</td>\n",
       "      <td>97.0</td>\n",
       "      <td>2014</td>\n",
       "      <td>Drama, Mystery, Sci-Fi, Thriller</td>\n",
       "      <td>218780</td>\n",
       "      <td>2014-03-08</td>\n",
       "      <td>Michael Spierig, Peter Spierig</td>\n",
       "      <td>138494</td>\n",
       "      <td>5.0</td>\n",
       "      <td>1448668800</td>\n",
       "      <td>2397535</td>\n",
       "    </tr>\n",
       "  </tbody>\n",
       "</table>\n",
       "</div>"
      ],
      "text/plain": [
       "         Const  Your Rating  Date Rated                     Title  \\\n",
       "0    tt0111161           10  2007-08-12  The Shawshank Redemption   \n",
       "567  tt2397535           10  2015-11-28            Predestination   \n",
       "\n",
       "                                       URL Title Type  IMDb Rating  \\\n",
       "0    https://www.imdb.com/title/tt0111161/      movie          9.3   \n",
       "567  https://www.imdb.com/title/tt2397535/      movie          7.5   \n",
       "\n",
       "     Runtime (mins)  Year                            Genres  Num Votes  \\\n",
       "0             142.0  1994                             Drama    2034334   \n",
       "567            97.0  2014  Drama, Mystery, Sci-Fi, Thriller     218780   \n",
       "\n",
       "    Release Date                       Directors  userId  rating   timestamp  \\\n",
       "0     1994-09-10                  Frank Darabont  138494     5.0  1186876800   \n",
       "567   2014-03-08  Michael Spierig, Peter Spierig  138494     5.0  1448668800   \n",
       "\n",
       "      imdbId  \n",
       "0     111161  \n",
       "567  2397535  "
      ]
     },
     "execution_count": 10,
     "metadata": {},
     "output_type": "execute_result"
    }
   ],
   "source": [
    "my_ratings['userId'] = max(ratings['userId']) + 1\n",
    "my_ratings['rating'] = my_ratings['Your Rating'] / 2\n",
    "my_ratings['timestamp'] = my_ratings['Date Rated'].astype('datetime64[ns]').astype('int64')//1000000000\n",
    "my_ratings['imdbId'] = my_ratings['Const'].apply(lambda x: x[2:]).map(int)\n",
    "my_ratings.iloc[[0, -1]]"
   ]
  },
  {
   "cell_type": "markdown",
   "metadata": {},
   "source": [
    "#### Merge my_ratings with links and select only necessary columns"
   ]
  },
  {
   "cell_type": "code",
   "execution_count": 11,
   "metadata": {
    "scrolled": true
   },
   "outputs": [
    {
     "data": {
      "text/html": [
       "<div>\n",
       "<style scoped>\n",
       "    .dataframe tbody tr th:only-of-type {\n",
       "        vertical-align: middle;\n",
       "    }\n",
       "\n",
       "    .dataframe tbody tr th {\n",
       "        vertical-align: top;\n",
       "    }\n",
       "\n",
       "    .dataframe thead th {\n",
       "        text-align: right;\n",
       "    }\n",
       "</style>\n",
       "<table border=\"1\" class=\"dataframe\">\n",
       "  <thead>\n",
       "    <tr style=\"text-align: right;\">\n",
       "      <th></th>\n",
       "      <th>userId</th>\n",
       "      <th>movieId</th>\n",
       "      <th>rating</th>\n",
       "      <th>timestamp</th>\n",
       "    </tr>\n",
       "  </thead>\n",
       "  <tbody>\n",
       "    <tr>\n",
       "      <th>495</th>\n",
       "      <td>138494</td>\n",
       "      <td>77800</td>\n",
       "      <td>5.0</td>\n",
       "      <td>1448496000</td>\n",
       "    </tr>\n",
       "    <tr>\n",
       "      <th>496</th>\n",
       "      <td>138494</td>\n",
       "      <td>114935</td>\n",
       "      <td>5.0</td>\n",
       "      <td>1448668800</td>\n",
       "    </tr>\n",
       "  </tbody>\n",
       "</table>\n",
       "</div>"
      ],
      "text/plain": [
       "     userId  movieId  rating   timestamp\n",
       "495  138494    77800     5.0  1448496000\n",
       "496  138494   114935     5.0  1448668800"
      ]
     },
     "execution_count": 11,
     "metadata": {},
     "output_type": "execute_result"
    }
   ],
   "source": [
    "my_movies = my_ratings.merge(links, on='imdbId')[['userId', 'movieId', 'rating', 'timestamp']]\n",
    "\n",
    "my_movies.tail(2)"
   ]
  },
  {
   "cell_type": "markdown",
   "metadata": {},
   "source": [
    "#### Concat my ratings with all ratings"
   ]
  },
  {
   "cell_type": "code",
   "execution_count": 12,
   "metadata": {
    "scrolled": true
   },
   "outputs": [
    {
     "data": {
      "text/html": [
       "<div>\n",
       "<style scoped>\n",
       "    .dataframe tbody tr th:only-of-type {\n",
       "        vertical-align: middle;\n",
       "    }\n",
       "\n",
       "    .dataframe tbody tr th {\n",
       "        vertical-align: top;\n",
       "    }\n",
       "\n",
       "    .dataframe thead th {\n",
       "        text-align: right;\n",
       "    }\n",
       "</style>\n",
       "<table border=\"1\" class=\"dataframe\">\n",
       "  <thead>\n",
       "    <tr style=\"text-align: right;\">\n",
       "      <th></th>\n",
       "      <th>userId</th>\n",
       "      <th>movieId</th>\n",
       "      <th>rating</th>\n",
       "      <th>timestamp</th>\n",
       "    </tr>\n",
       "  </thead>\n",
       "  <tbody>\n",
       "    <tr>\n",
       "      <th>20000758</th>\n",
       "      <td>138494</td>\n",
       "      <td>77800</td>\n",
       "      <td>5.0</td>\n",
       "      <td>1448496000</td>\n",
       "    </tr>\n",
       "    <tr>\n",
       "      <th>20000759</th>\n",
       "      <td>138494</td>\n",
       "      <td>114935</td>\n",
       "      <td>5.0</td>\n",
       "      <td>1448668800</td>\n",
       "    </tr>\n",
       "  </tbody>\n",
       "</table>\n",
       "</div>"
      ],
      "text/plain": [
       "          userId  movieId  rating   timestamp\n",
       "20000758  138494    77800     5.0  1448496000\n",
       "20000759  138494   114935     5.0  1448668800"
      ]
     },
     "execution_count": 12,
     "metadata": {},
     "output_type": "execute_result"
    }
   ],
   "source": [
    "all_ratings = pd.concat([ratings, my_movies], ignore_index=True)\n",
    "all_ratings.tail(2)"
   ]
  },
  {
   "cell_type": "markdown",
   "metadata": {},
   "source": [
    "#### Merge titles"
   ]
  },
  {
   "cell_type": "code",
   "execution_count": 13,
   "metadata": {
    "scrolled": true
   },
   "outputs": [
    {
     "data": {
      "text/html": [
       "<div>\n",
       "<style scoped>\n",
       "    .dataframe tbody tr th:only-of-type {\n",
       "        vertical-align: middle;\n",
       "    }\n",
       "\n",
       "    .dataframe tbody tr th {\n",
       "        vertical-align: top;\n",
       "    }\n",
       "\n",
       "    .dataframe thead th {\n",
       "        text-align: right;\n",
       "    }\n",
       "</style>\n",
       "<table border=\"1\" class=\"dataframe\">\n",
       "  <thead>\n",
       "    <tr style=\"text-align: right;\">\n",
       "      <th></th>\n",
       "      <th>userId</th>\n",
       "      <th>movieId</th>\n",
       "      <th>rating</th>\n",
       "      <th>timestamp</th>\n",
       "      <th>title</th>\n",
       "    </tr>\n",
       "  </thead>\n",
       "  <tbody>\n",
       "    <tr>\n",
       "      <th>20000758</th>\n",
       "      <td>138494</td>\n",
       "      <td>77800</td>\n",
       "      <td>5.0</td>\n",
       "      <td>1448496000</td>\n",
       "      <td>Four Lions (2010)</td>\n",
       "    </tr>\n",
       "    <tr>\n",
       "      <th>20000759</th>\n",
       "      <td>138494</td>\n",
       "      <td>114935</td>\n",
       "      <td>5.0</td>\n",
       "      <td>1448668800</td>\n",
       "      <td>Predestination (2014)</td>\n",
       "    </tr>\n",
       "  </tbody>\n",
       "</table>\n",
       "</div>"
      ],
      "text/plain": [
       "          userId  movieId  rating   timestamp                  title\n",
       "20000758  138494    77800     5.0  1448496000      Four Lions (2010)\n",
       "20000759  138494   114935     5.0  1448668800  Predestination (2014)"
      ]
     },
     "execution_count": 13,
     "metadata": {},
     "output_type": "execute_result"
    }
   ],
   "source": [
    "all_ratings['order'] = all_ratings.index\n",
    "all_ratings = pd.merge(all_ratings, movies[['movieId', 'title']])\n",
    "all_ratings = all_ratings.sort_values('order')\n",
    "all_ratings = all_ratings.reset_index(drop=True)\n",
    "all_ratings = all_ratings.drop(columns='order')\n",
    "#all_ratings.to_csv(path + 'all_ratings.csv', index=False)\n",
    "\n",
    "all_ratings.tail(2)"
   ]
  },
  {
   "cell_type": "markdown",
   "metadata": {},
   "source": [
    "### Collaborative filtering"
   ]
  },
  {
   "cell_type": "code",
   "execution_count": 14,
   "metadata": {},
   "outputs": [
    {
     "data": {
      "text/html": [
       "<table>  <col width='10%'>  <col width='10%'>  <col width='10%'>  <tr>\n",
       "    <th>userId</th>\n",
       "    <th>title</th>\n",
       "    <th>target</th>\n",
       "  </tr>\n",
       "  <tr>\n",
       "    <th>110609</th>\n",
       "    <th>Frighteners, The (1996)</th>\n",
       "    <th>3.0</th>\n",
       "  </tr>\n",
       "  <tr>\n",
       "    <th>28652</th>\n",
       "    <th>Ace Ventura: When Nature Calls (1995)</th>\n",
       "    <th>2.0</th>\n",
       "  </tr>\n",
       "</table>\n"
      ],
      "text/plain": [
       "<IPython.core.display.HTML object>"
      ]
     },
     "metadata": {},
     "output_type": "display_data"
    }
   ],
   "source": [
    "data = CollabDataBunch.from_df(all_ratings, item_name='title')\n",
    "data.show_batch(2)"
   ]
  },
  {
   "cell_type": "code",
   "execution_count": 15,
   "metadata": {},
   "outputs": [],
   "source": [
    "learn = collab_learner(data, n_factors=50, y_range=(0.,5.))"
   ]
  },
  {
   "cell_type": "code",
   "execution_count": 16,
   "metadata": {},
   "outputs": [
    {
     "data": {
      "text/html": [
       "Total time: 32:28 <p><table style='width:300px; margin-bottom:10px'>\n",
       "  <tr>\n",
       "    <th>epoch</th>\n",
       "    <th>train_loss</th>\n",
       "    <th>valid_loss</th>\n",
       "  </tr>\n",
       "  <tr>\n",
       "    <th>1</th>\n",
       "    <th>0.922044</th>\n",
       "    <th>0.929842</th>\n",
       "  </tr>\n",
       "  <tr>\n",
       "\n",
       "  </tr>\n",
       "</table>\n"
      ],
      "text/plain": [
       "<IPython.core.display.HTML object>"
      ]
     },
     "metadata": {},
     "output_type": "display_data"
    }
   ],
   "source": [
    "learn.fit_one_cycle(1, 5e-3, wd=0.1)"
   ]
  },
  {
   "cell_type": "code",
   "execution_count": 17,
   "metadata": {},
   "outputs": [],
   "source": [
    "#learn.save('dotprod')\n",
    "#learn.load('20m_dotprod')"
   ]
  },
  {
   "cell_type": "markdown",
   "metadata": {},
   "source": [
    "### Interpretation"
   ]
  },
  {
   "cell_type": "code",
   "execution_count": 18,
   "metadata": {},
   "outputs": [
    {
     "data": {
      "text/plain": [
       "EmbeddingDotBias(\n",
       "  (u_weight): Embedding(138495, 50)\n",
       "  (i_weight): Embedding(25858, 50)\n",
       "  (u_bias): Embedding(138495, 1)\n",
       "  (i_bias): Embedding(25858, 1)\n",
       ")"
      ]
     },
     "execution_count": 18,
     "metadata": {},
     "output_type": "execute_result"
    }
   ],
   "source": [
    "learn.model"
   ]
  },
  {
   "cell_type": "code",
   "execution_count": 19,
   "metadata": {},
   "outputs": [
    {
     "data": {
      "text/plain": [
       "array(['Pulp Fiction (1994)', 'Forrest Gump (1994)', 'Shawshank Redemption, The (1994)',\n",
       "       'Silence of the Lambs, The (1991)', 'Jurassic Park (1993)', 'Star Wars: Episode IV - A New Hope (1977)',\n",
       "       'Braveheart (1995)', 'Terminator 2: Judgment Day (1991)', 'Matrix, The (1999)', \"Schindler's List (1993)\"],\n",
       "      dtype=object)"
      ]
     },
     "execution_count": 19,
     "metadata": {},
     "output_type": "execute_result"
    }
   ],
   "source": [
    "g = all_ratings.groupby('title')['rating'].count()\n",
    "top_movies = g.sort_values(ascending=False).index.values[:1000]\n",
    "top_movies[:10]"
   ]
  },
  {
   "cell_type": "markdown",
   "metadata": {},
   "source": [
    "#### Movie Bias"
   ]
  },
  {
   "cell_type": "code",
   "execution_count": 20,
   "metadata": {},
   "outputs": [],
   "source": [
    "movie_bias = learn.bias(top_movies, is_item=True)"
   ]
  },
  {
   "cell_type": "code",
   "execution_count": 21,
   "metadata": {},
   "outputs": [
    {
     "data": {
      "text/plain": [
       "tensor([ 1.0209,  0.9481,  1.3641,  1.0751,  0.6756,  1.0189,  0.9420,  0.8335,\n",
       "         0.9809,  1.1530,  0.8110,  0.9423,  0.8372,  0.4630,  1.1437,  0.8543,\n",
       "         0.4571,  0.9365,  0.9464,  0.8049,  0.7296,  0.9644,  0.9016,  0.8714,\n",
       "         0.5593,  0.6539,  0.5644,  0.7380,  1.0734,  0.9819,  0.8454,  0.7213,\n",
       "         0.1922,  0.9019,  0.4874,  0.8543,  0.4958,  0.6260,  0.4883,  0.3187,\n",
       "         0.8354,  0.5485,  0.4895,  0.7006,  0.8630,  0.7483,  0.2164,  0.6029,\n",
       "         0.9172,  0.3767,  0.6090,  0.3635,  0.1641,  0.6695,  0.6602,  0.4359,\n",
       "         0.8680,  0.6726,  0.7715,  0.7846,  0.8450,  0.9147,  0.7252,  0.9150,\n",
       "         0.2435,  0.6629,  0.4951,  0.5911,  0.4746,  0.5410,  0.2708,  0.5809,\n",
       "         0.7795,  0.1641,  0.5977,  0.5722,  0.7974,  0.5023,  0.9260,  0.7333,\n",
       "         0.6762,  0.5127,  0.7799,  0.8833,  0.4317,  0.4284,  0.5000,  0.7728,\n",
       "         0.5515,  0.6492,  0.6721,  0.6521,  0.3092,  0.6844,  0.2998,  0.3188,\n",
       "         0.7010,  0.4488,  0.6197,  0.8353,  0.6225,  0.8962,  0.8536,  0.5634,\n",
       "         0.6778,  0.6268,  0.6563,  0.6770,  0.5545,  0.7136,  0.3169,  0.7585,\n",
       "         0.6769,  0.6473,  0.7298,  0.4604,  0.6912,  0.8791,  0.3647,  0.8595,\n",
       "         0.5401,  0.7365,  0.5996,  0.8109,  0.5384,  0.3360,  0.5581,  0.3016,\n",
       "         0.4022,  0.5065,  0.7032,  0.7397,  0.5980,  0.6357,  0.4113,  0.5827,\n",
       "         0.5641,  0.5434,  0.6388,  0.5607,  0.6238,  0.1555,  0.7174, -0.0023,\n",
       "         0.7424,  0.7162,  0.4793,  0.6327,  0.7897,  0.6045,  0.7142,  0.7231,\n",
       "         0.6464,  0.5570,  0.4788,  0.8909,  0.4046,  0.7413,  0.6844,  0.3594,\n",
       "         0.6661,  0.5074,  0.5762,  0.3090,  0.6047,  0.7043,  0.4502,  0.6541,\n",
       "         0.6165,  0.3538,  0.6427,  0.5677,  0.5546,  0.1251,  0.4742,  0.5321,\n",
       "         0.6126,  0.1542,  0.6730,  0.6798,  0.6106,  0.2340,  0.5477,  0.3490,\n",
       "         0.6309,  0.2297,  0.5806,  0.8109,  0.6482,  0.4159,  0.5869,  0.6906,\n",
       "         0.4670,  0.5068,  0.7193,  0.5209,  0.8499,  0.6206,  0.4804,  0.4599,\n",
       "         0.1565,  0.5875,  0.4247,  0.6834,  0.6925,  0.3020,  0.3034,  0.2529,\n",
       "         0.4525, -0.0093,  0.4465,  0.2237,  0.4997,  0.5605,  0.1615,  0.2875,\n",
       "         0.4733,  0.3164,  0.2779,  0.6503,  0.0957,  0.4733,  0.5002,  0.5596,\n",
       "         0.4876,  0.6134,  0.4756,  0.5425,  0.3768,  0.4213,  0.2873,  0.8194,\n",
       "         0.3784,  0.5095,  0.7160,  0.5661,  0.5723,  0.5930,  0.6823,  0.5961,\n",
       "         0.6140,  0.2348,  0.4781,  0.6518,  0.4892,  0.7304,  0.4197,  0.5987,\n",
       "         0.5594,  0.3492,  0.6212,  0.8254,  0.0033,  0.0221,  0.0941,  0.7469,\n",
       "         0.4408,  0.7488,  0.2648,  0.4585,  0.4701,  0.1505,  0.6826,  0.7058,\n",
       "         0.5011,  0.4327,  0.1903,  0.5307,  0.0353,  0.6299,  0.4650,  0.4309,\n",
       "         0.7616,  0.3979,  0.1908,  0.4451,  0.6511,  0.3237,  0.3328,  0.2417,\n",
       "         0.5002,  0.6166,  0.2497,  0.4872,  0.7122,  0.6590,  0.5256,  0.7881,\n",
       "         0.4457,  0.6430,  0.4336,  0.4674,  0.0140,  0.0755,  0.5432,  0.5433,\n",
       "         0.1586,  0.4164,  0.7684,  0.1021,  0.3715,  0.3719,  0.3683,  0.1413,\n",
       "         0.4367,  0.3030,  0.7721,  0.6302,  0.5839,  0.2269,  0.3459,  0.4421,\n",
       "         0.4398,  0.5131,  0.3647,  0.3740,  0.3146,  0.1649,  0.3041,  0.3980,\n",
       "         0.3916,  0.8136,  0.7827,  0.6318,  0.3041,  0.1950,  0.1080,  0.3844,\n",
       "         0.2831,  0.5235,  0.2905,  0.0888,  0.3669,  0.4052,  0.1928,  0.4595,\n",
       "         0.3888,  0.6844,  0.4583,  0.5642,  0.4838,  0.5182,  0.5086,  0.4718,\n",
       "         0.6591,  0.4461,  0.2763,  0.5814,  0.3213,  0.2058,  0.1986,  0.5145,\n",
       "         0.4330,  0.6071,  0.4280,  0.3746,  0.4017,  0.6847,  0.5405,  0.2683,\n",
       "         0.7242,  0.4571,  0.2257,  0.7194,  0.4222,  0.3760,  0.2966,  0.6426,\n",
       "         0.5717,  0.2964,  0.4136,  0.6235,  0.4095,  0.2363,  0.5261,  0.4256,\n",
       "         0.4186,  0.4784,  0.5922,  0.5554,  0.1459,  0.4185,  0.7158,  0.3911,\n",
       "         0.4723,  0.6798,  0.4391,  0.2993,  0.3278,  0.3910,  0.3153,  0.6698,\n",
       "         0.6541,  0.4073,  0.5100,  0.3657,  0.1839,  0.6385,  0.4858,  0.4530,\n",
       "         0.4799,  0.1608,  0.2786,  0.2516,  0.5787,  0.5395,  0.1802,  0.4668,\n",
       "        -0.1432,  0.2658,  0.3023,  0.5153,  0.3364,  0.5692,  0.1766,  0.6201,\n",
       "         0.7035,  0.3032,  0.2521,  0.4457,  0.6181,  0.2920,  0.0159,  0.5030,\n",
       "         0.2740,  0.6255,  0.3955,  0.5360,  0.5477,  0.2832,  0.2668,  0.6276,\n",
       "         0.5140,  0.6362,  0.3820,  0.5502,  0.4621,  0.6400,  0.4218,  0.3222,\n",
       "         0.5292,  0.3193,  0.4517,  0.5897,  0.4944,  0.3248,  0.6078,  0.4792,\n",
       "         0.4222,  0.4490,  0.3321,  0.3140,  0.3668,  0.2967,  0.3334,  0.3036,\n",
       "         0.2961,  0.3859,  0.4555,  0.6007,  0.3437,  0.3412,  0.4115,  0.2943,\n",
       "        -0.0271,  0.3555,  0.0724,  0.4423,  0.1104,  0.1829,  0.5031,  0.3476,\n",
       "         0.1624,  0.4627,  0.1066,  0.0470,  0.5906,  0.5477,  0.1843,  0.3700,\n",
       "         0.3608,  0.3462,  0.3645,  0.3840,  0.6418,  0.1914,  0.5176, -0.0500,\n",
       "         0.3375,  0.5055,  0.5078,  0.6027,  0.3107,  0.4708,  0.3142,  0.4933,\n",
       "         0.4293,  0.4976,  0.6275,  0.5252,  0.3503,  0.5668,  0.4368,  0.4680,\n",
       "         0.5360,  0.2373, -0.1579,  0.3681,  0.3964,  0.3958,  0.4877,  0.5012,\n",
       "         0.6272,  0.6052,  0.4974,  0.1680,  0.3264,  0.2516,  0.2948,  0.3940,\n",
       "         0.3240,  0.5406,  0.5938,  0.5178,  0.5238,  0.4041,  0.3852,  0.3184,\n",
       "         0.2431,  0.5151,  0.3686,  0.3146,  0.4659,  0.4430,  0.2337,  0.2445,\n",
       "         0.4250,  0.3545,  0.5284,  0.4254,  0.4323,  0.3876,  0.1419,  0.4687,\n",
       "         0.5093,  0.4741,  0.0502,  0.3739,  0.3979,  0.5168,  0.3963,  0.3453,\n",
       "         0.3659,  0.2356,  0.5309,  0.3413,  0.4494,  0.4463,  0.2204,  0.2636,\n",
       "         0.2240,  0.2582,  0.0575,  0.3669,  0.5360,  0.2153,  0.4305,  0.3697,\n",
       "         0.1907,  0.4833,  0.4668,  0.2532,  0.4349,  0.0339,  0.2620,  0.6078,\n",
       "         0.1193,  0.5061,  0.4245,  0.4563,  0.2006,  0.2582,  0.1749,  0.3738,\n",
       "         0.5114,  0.2552,  0.4474,  0.3888,  0.4013,  0.1511,  0.1493,  0.1863,\n",
       "         0.3070,  0.2256,  0.3368,  0.2197,  0.2348,  0.0874,  0.3833,  0.6715,\n",
       "         0.1037,  0.5471,  0.1569,  0.4417,  0.1486,  0.1795,  0.5442,  0.5530,\n",
       "         0.2370,  0.5156,  0.4993,  0.4652,  0.4209,  0.3670,  0.5453,  0.0653,\n",
       "         0.1303,  0.3683,  0.2755,  0.3878,  0.3781,  0.2682,  0.3819,  0.4963,\n",
       "         0.4070,  0.3228,  0.4980,  0.2326,  0.4369,  0.4582,  0.3972,  0.3673,\n",
       "         0.4048,  0.2400,  0.5155,  0.4130,  0.5252,  0.3302,  0.3865,  0.3930,\n",
       "         0.4775,  0.3186,  0.6141,  0.2838,  0.3482,  0.3272,  0.5471,  0.4802,\n",
       "         0.3281,  0.2846,  0.5743,  0.1099,  0.5273,  0.3105,  0.4166,  0.1956,\n",
       "         0.5347,  0.4446,  0.4785,  0.3997,  0.3442,  0.4624,  0.4727,  0.3076,\n",
       "         0.4100,  0.3836,  0.2798,  0.2454,  0.2365,  0.4436,  0.2202,  0.3671,\n",
       "        -0.1248, -0.0145,  0.4199,  0.3968,  0.2503,  0.2406,  0.0822,  0.2695,\n",
       "        -0.0561,  0.4345,  0.4937,  0.5319, -0.0958,  0.4839,  0.3257,  0.4290,\n",
       "         0.3810,  0.3672,  0.2070,  0.4464,  0.5158,  0.3291,  0.6151,  0.0508,\n",
       "         0.3025,  0.1741, -0.0482,  0.5717,  0.4525,  0.3949,  0.4204,  0.5041,\n",
       "         0.0520,  0.2984,  0.5547,  0.5029,  0.0419,  0.3365,  0.3483,  0.3584,\n",
       "         0.1361,  0.4444,  0.4056,  0.3185,  0.5278,  0.5182,  0.4957,  0.3556,\n",
       "         0.3357,  0.3141,  0.2023,  0.2517,  0.0599,  0.1728,  0.3784,  0.1939,\n",
       "         0.5484,  0.2180, -0.0364,  0.5174,  0.0552,  0.4165,  0.3513,  0.4513,\n",
       "         0.3392,  0.4899,  0.3895,  0.3187,  0.0836,  0.2332,  0.0682,  0.4616,\n",
       "         0.2649,  0.4161,  0.4180,  0.2267,  0.4203,  0.3893,  0.1240,  0.1357,\n",
       "         0.4426,  0.3692,  0.5455,  0.4184,  0.0101,  0.3993,  0.3161,  0.2247,\n",
       "         0.2130,  0.4519,  0.2716,  0.2620,  0.5061,  0.3919,  0.2154,  0.5921,\n",
       "         0.6013,  0.4982,  0.5820,  0.4054,  0.2359,  0.4754,  0.2964,  0.1984,\n",
       "         0.3309,  0.4473,  0.2900,  0.2557,  0.4827,  0.5361,  0.3507,  0.2489,\n",
       "         0.5067,  0.0075,  0.1920,  0.3890,  0.4837,  0.3427,  0.3723,  0.2250,\n",
       "         0.2828,  0.1562,  0.5048,  0.3767,  0.2658,  0.3010,  0.3098,  0.4430,\n",
       "         0.4565,  0.4141,  0.3361,  0.3476,  0.5330,  0.4237,  0.3597,  0.2617,\n",
       "         0.3596,  0.0467,  0.3274,  0.5637,  0.3869,  0.0925,  0.2362,  0.0670,\n",
       "         0.2654,  0.3795,  0.4254,  0.2261,  0.4404,  0.4887,  0.2079,  0.2491,\n",
       "        -0.0427,  0.1882,  0.4296,  0.3750,  0.3795,  0.1973,  0.5329,  0.2745,\n",
       "        -0.0034,  0.0193,  0.1419,  0.0995,  0.3488,  0.2057,  0.4412,  0.4127,\n",
       "         0.4145,  0.5531,  0.4649,  0.4083,  0.4878,  0.1130,  0.4542,  0.3811,\n",
       "         0.4348,  0.3642,  0.2264,  0.1521,  0.4774,  0.3351,  0.4399,  0.1128,\n",
       "         0.4760,  0.1211,  0.2021,  0.5009, -0.2234,  0.2735,  0.1121,  0.4647,\n",
       "         0.4437,  0.2025,  0.1818,  0.3335,  0.2769,  0.4220,  0.6450,  0.4431,\n",
       "         0.4929,  0.2554,  0.4730,  0.0756,  0.1889,  0.1978,  0.3785,  0.5313,\n",
       "         0.4464,  0.5531,  0.5103,  0.3252,  0.0975,  0.5678,  0.1985,  0.2925,\n",
       "         0.5300,  0.2131,  0.4143,  0.4100,  0.5103,  0.3802,  0.4043, -0.1743,\n",
       "         0.4889,  0.2159,  0.2432,  0.4113,  0.3456,  0.5605,  0.5090,  0.3705,\n",
       "         0.3361,  0.1557,  0.3448,  0.5657,  0.2095,  0.0481,  0.3813,  0.1901,\n",
       "         0.3184,  0.3049,  0.2901,  0.4749,  0.4410,  0.1805,  0.2442,  0.4471,\n",
       "         0.2477,  0.2709,  0.3368,  0.3778,  0.3115, -0.0303,  0.2078,  0.2856,\n",
       "         0.3556,  0.3124,  0.1118,  0.4301,  0.1446,  0.2672,  0.1843,  0.0504,\n",
       "         0.4191,  0.3051,  0.3398,  0.4205,  0.4251,  0.0885,  0.3473,  0.4058,\n",
       "        -0.2610,  0.5317,  0.2412,  0.2914,  0.2708,  0.3145,  0.4408,  0.2222,\n",
       "         0.3450,  0.4375,  0.3131,  0.3083,  0.0170,  0.1963, -0.0248,  0.3727,\n",
       "         0.4469,  0.2973,  0.2428,  0.4762,  0.3038,  0.1059,  0.1651,  0.2721,\n",
       "         0.0203,  0.1854,  0.2867,  0.4792,  0.2704,  0.5045,  0.5369,  0.0515,\n",
       "         0.3854,  0.4765,  0.1186,  0.4494,  0.2720,  0.3849,  0.2267,  0.1840,\n",
       "         0.1858,  0.2355,  0.3153,  0.1008,  0.2724,  0.4099,  0.3076,  0.4605,\n",
       "         0.2558,  0.4555,  0.3364,  0.2705,  0.3040,  0.4868,  0.4485,  0.2278])"
      ]
     },
     "execution_count": 21,
     "metadata": {},
     "output_type": "execute_result"
    }
   ],
   "source": [
    "movie_bias"
   ]
  }
 ],
 "metadata": {
  "kernelspec": {
   "display_name": "Python 3",
   "language": "python",
   "name": "python3"
  },
  "language_info": {
   "codemirror_mode": {
    "name": "ipython",
    "version": 3
   },
   "file_extension": ".py",
   "mimetype": "text/x-python",
   "name": "python",
   "nbconvert_exporter": "python",
   "pygments_lexer": "ipython3",
   "version": "3.6.6"
  }
 },
 "nbformat": 4,
 "nbformat_minor": 2
}
