{
 "cells": [
  {
   "cell_type": "markdown",
   "metadata": {},
   "source": [
    "## MovieRec"
   ]
  },
  {
   "cell_type": "markdown",
   "metadata": {},
   "source": [
    "In this notebook, I'll build a deep learning model movie recommendations system on the MovieLens 20M dataset."
   ]
  },
  {
   "cell_type": "code",
   "execution_count": 1,
   "metadata": {},
   "outputs": [],
   "source": [
    "from fastai import *\n",
    "from fastai.collab import *\n",
    "from fastai.tabular import *"
   ]
  },
  {
   "cell_type": "markdown",
   "metadata": {},
   "source": [
    "### Loading MovieLens 20m dataset\n",
    "Download [link](http://files.grouplens.org/datasets/movielens/ml-20m.zip) and dataset [readme.](http://files.grouplens.org/datasets/movielens/ml-20m-README.html)  \n",
    "  \n",
    "MovieLens ratings are made on a 5-star scale, with half-star increments (0.5 stars - 5.0 stars).  \n",
    "IMDb ratings are made on a 10-star scale (1 stars - 10 stars)."
   ]
  },
  {
   "cell_type": "code",
   "execution_count": 2,
   "metadata": {
    "scrolled": true
   },
   "outputs": [
    {
     "name": "stdout",
     "output_type": "stream",
     "text": [
      "README.txt\t   genome-tags.csv  movies.csv\t tags.csv\r\n",
      "genome-scores.csv  links.csv\t    ratings.csv\r\n"
     ]
    }
   ],
   "source": [
    "path = 'data/'\n",
    "ml20 = path + 'ml-20m/' \n",
    "!ls {ml20}"
   ]
  },
  {
   "cell_type": "markdown",
   "metadata": {},
   "source": [
    "#### ratings.csv"
   ]
  },
  {
   "cell_type": "code",
   "execution_count": 3,
   "metadata": {},
   "outputs": [
    {
     "name": "stdout",
     "output_type": "stream",
     "text": [
      "Size: 20000263\n"
     ]
    },
    {
     "data": {
      "text/html": [
       "<div>\n",
       "<style scoped>\n",
       "    .dataframe tbody tr th:only-of-type {\n",
       "        vertical-align: middle;\n",
       "    }\n",
       "\n",
       "    .dataframe tbody tr th {\n",
       "        vertical-align: top;\n",
       "    }\n",
       "\n",
       "    .dataframe thead th {\n",
       "        text-align: right;\n",
       "    }\n",
       "</style>\n",
       "<table border=\"1\" class=\"dataframe\">\n",
       "  <thead>\n",
       "    <tr style=\"text-align: right;\">\n",
       "      <th></th>\n",
       "      <th>userId</th>\n",
       "      <th>movieId</th>\n",
       "      <th>rating</th>\n",
       "      <th>timestamp</th>\n",
       "    </tr>\n",
       "  </thead>\n",
       "  <tbody>\n",
       "    <tr>\n",
       "      <th>0</th>\n",
       "      <td>1</td>\n",
       "      <td>2</td>\n",
       "      <td>3.5</td>\n",
       "      <td>1112486027</td>\n",
       "    </tr>\n",
       "    <tr>\n",
       "      <th>1</th>\n",
       "      <td>1</td>\n",
       "      <td>29</td>\n",
       "      <td>3.5</td>\n",
       "      <td>1112484676</td>\n",
       "    </tr>\n",
       "  </tbody>\n",
       "</table>\n",
       "</div>"
      ],
      "text/plain": [
       "   userId  movieId  rating   timestamp\n",
       "0       1        2     3.5  1112486027\n",
       "1       1       29     3.5  1112484676"
      ]
     },
     "execution_count": 3,
     "metadata": {},
     "output_type": "execute_result"
    }
   ],
   "source": [
    "ratings = pd.read_csv(ml20 + 'ratings.csv', encoding='latin-1')\n",
    "print('Size:', len(ratings))\n",
    "ratings.head(2)"
   ]
  },
  {
   "cell_type": "markdown",
   "metadata": {},
   "source": [
    "#### movies.csv"
   ]
  },
  {
   "cell_type": "code",
   "execution_count": 4,
   "metadata": {},
   "outputs": [
    {
     "name": "stdout",
     "output_type": "stream",
     "text": [
      "Size: 27278\n"
     ]
    },
    {
     "data": {
      "text/html": [
       "<div>\n",
       "<style scoped>\n",
       "    .dataframe tbody tr th:only-of-type {\n",
       "        vertical-align: middle;\n",
       "    }\n",
       "\n",
       "    .dataframe tbody tr th {\n",
       "        vertical-align: top;\n",
       "    }\n",
       "\n",
       "    .dataframe thead th {\n",
       "        text-align: right;\n",
       "    }\n",
       "</style>\n",
       "<table border=\"1\" class=\"dataframe\">\n",
       "  <thead>\n",
       "    <tr style=\"text-align: right;\">\n",
       "      <th></th>\n",
       "      <th>movieId</th>\n",
       "      <th>title</th>\n",
       "      <th>genres</th>\n",
       "    </tr>\n",
       "  </thead>\n",
       "  <tbody>\n",
       "    <tr>\n",
       "      <th>0</th>\n",
       "      <td>1</td>\n",
       "      <td>Toy Story (1995)</td>\n",
       "      <td>Adventure|Animation|Children|Comedy|Fantasy</td>\n",
       "    </tr>\n",
       "    <tr>\n",
       "      <th>1</th>\n",
       "      <td>2</td>\n",
       "      <td>Jumanji (1995)</td>\n",
       "      <td>Adventure|Children|Fantasy</td>\n",
       "    </tr>\n",
       "  </tbody>\n",
       "</table>\n",
       "</div>"
      ],
      "text/plain": [
       "   movieId             title                                       genres\n",
       "0        1  Toy Story (1995)  Adventure|Animation|Children|Comedy|Fantasy\n",
       "1        2    Jumanji (1995)                   Adventure|Children|Fantasy"
      ]
     },
     "execution_count": 4,
     "metadata": {},
     "output_type": "execute_result"
    }
   ],
   "source": [
    "movies = pd.read_csv(ml20 + 'movies.csv', encoding='latin-1')\n",
    "print('Size:', len(movies))\n",
    "movies.head(2)"
   ]
  },
  {
   "cell_type": "markdown",
   "metadata": {},
   "source": [
    "#### links.csv"
   ]
  },
  {
   "cell_type": "code",
   "execution_count": 5,
   "metadata": {},
   "outputs": [
    {
     "name": "stdout",
     "output_type": "stream",
     "text": [
      "Size: 27278\n"
     ]
    },
    {
     "data": {
      "text/html": [
       "<div>\n",
       "<style scoped>\n",
       "    .dataframe tbody tr th:only-of-type {\n",
       "        vertical-align: middle;\n",
       "    }\n",
       "\n",
       "    .dataframe tbody tr th {\n",
       "        vertical-align: top;\n",
       "    }\n",
       "\n",
       "    .dataframe thead th {\n",
       "        text-align: right;\n",
       "    }\n",
       "</style>\n",
       "<table border=\"1\" class=\"dataframe\">\n",
       "  <thead>\n",
       "    <tr style=\"text-align: right;\">\n",
       "      <th></th>\n",
       "      <th>movieId</th>\n",
       "      <th>imdbId</th>\n",
       "      <th>tmdbId</th>\n",
       "    </tr>\n",
       "  </thead>\n",
       "  <tbody>\n",
       "    <tr>\n",
       "      <th>0</th>\n",
       "      <td>1</td>\n",
       "      <td>114709</td>\n",
       "      <td>862.0</td>\n",
       "    </tr>\n",
       "    <tr>\n",
       "      <th>1</th>\n",
       "      <td>2</td>\n",
       "      <td>113497</td>\n",
       "      <td>8844.0</td>\n",
       "    </tr>\n",
       "  </tbody>\n",
       "</table>\n",
       "</div>"
      ],
      "text/plain": [
       "   movieId  imdbId  tmdbId\n",
       "0        1  114709   862.0\n",
       "1        2  113497  8844.0"
      ]
     },
     "execution_count": 5,
     "metadata": {},
     "output_type": "execute_result"
    }
   ],
   "source": [
    "links = pd.read_csv(ml20 + 'links.csv', encoding='latin-1')\n",
    "print('Size:', len(links))\n",
    "links.head(2)"
   ]
  },
  {
   "cell_type": "markdown",
   "metadata": {},
   "source": [
    "#### Or load 100k dataset"
   ]
  },
  {
   "cell_type": "code",
   "execution_count": 6,
   "metadata": {},
   "outputs": [],
   "source": [
    "ml100 = path + 'ml-100k/' \n",
    "r_names = ['userId','movieId','rating','timestamp']\n",
    "m_names = ['movieId', 'title', 'date', 'N', 'url', *[f'g{i}' for i in range(19)]]\n",
    "#ratings = pd.read_csv(ml100 + 'u.data', delimiter='\\t', header=None, names=r_names)\n",
    "#movies = pd.read_csv(ml100 + 'u.item',  delimiter='|', encoding='latin-1', header=None, names=m_names)"
   ]
  },
  {
   "cell_type": "markdown",
   "metadata": {},
   "source": [
    "### Loading my [IMDb ratings](https://www.imdb.com/user/ur15834927/ratings)"
   ]
  },
  {
   "cell_type": "code",
   "execution_count": 7,
   "metadata": {},
   "outputs": [
    {
     "name": "stdout",
     "output_type": "stream",
     "text": [
      "Size: 568\n"
     ]
    }
   ],
   "source": [
    "my_ratings = pd.read_csv(path + 'my_ratings.csv', encoding='latin-1')\n",
    "my_ratings = my_ratings.sort_values('Date Rated').reset_index(drop=True)\n",
    "print('Size:', len(my_ratings))"
   ]
  },
  {
   "cell_type": "markdown",
   "metadata": {},
   "source": [
    "#### First and last movie I rated"
   ]
  },
  {
   "cell_type": "code",
   "execution_count": 8,
   "metadata": {},
   "outputs": [
    {
     "data": {
      "text/html": [
       "<div>\n",
       "<style scoped>\n",
       "    .dataframe tbody tr th:only-of-type {\n",
       "        vertical-align: middle;\n",
       "    }\n",
       "\n",
       "    .dataframe tbody tr th {\n",
       "        vertical-align: top;\n",
       "    }\n",
       "\n",
       "    .dataframe thead th {\n",
       "        text-align: right;\n",
       "    }\n",
       "</style>\n",
       "<table border=\"1\" class=\"dataframe\">\n",
       "  <thead>\n",
       "    <tr style=\"text-align: right;\">\n",
       "      <th></th>\n",
       "      <th>Const</th>\n",
       "      <th>Your Rating</th>\n",
       "      <th>Date Rated</th>\n",
       "      <th>Title</th>\n",
       "      <th>URL</th>\n",
       "      <th>Title Type</th>\n",
       "      <th>IMDb Rating</th>\n",
       "      <th>Runtime (mins)</th>\n",
       "      <th>Year</th>\n",
       "      <th>Genres</th>\n",
       "      <th>Num Votes</th>\n",
       "      <th>Release Date</th>\n",
       "      <th>Directors</th>\n",
       "    </tr>\n",
       "  </thead>\n",
       "  <tbody>\n",
       "    <tr>\n",
       "      <th>0</th>\n",
       "      <td>tt0111161</td>\n",
       "      <td>10</td>\n",
       "      <td>2007-08-12</td>\n",
       "      <td>The Shawshank Redemption</td>\n",
       "      <td>https://www.imdb.com/title/tt0111161/</td>\n",
       "      <td>movie</td>\n",
       "      <td>9.3</td>\n",
       "      <td>142.0</td>\n",
       "      <td>1994</td>\n",
       "      <td>Drama</td>\n",
       "      <td>2034334</td>\n",
       "      <td>1994-09-10</td>\n",
       "      <td>Frank Darabont</td>\n",
       "    </tr>\n",
       "    <tr>\n",
       "      <th>567</th>\n",
       "      <td>tt2397535</td>\n",
       "      <td>10</td>\n",
       "      <td>2015-11-28</td>\n",
       "      <td>Predestination</td>\n",
       "      <td>https://www.imdb.com/title/tt2397535/</td>\n",
       "      <td>movie</td>\n",
       "      <td>7.5</td>\n",
       "      <td>97.0</td>\n",
       "      <td>2014</td>\n",
       "      <td>Drama, Mystery, Sci-Fi, Thriller</td>\n",
       "      <td>218780</td>\n",
       "      <td>2014-03-08</td>\n",
       "      <td>Michael Spierig, Peter Spierig</td>\n",
       "    </tr>\n",
       "  </tbody>\n",
       "</table>\n",
       "</div>"
      ],
      "text/plain": [
       "         Const  Your Rating  Date Rated                     Title  \\\n",
       "0    tt0111161           10  2007-08-12  The Shawshank Redemption   \n",
       "567  tt2397535           10  2015-11-28            Predestination   \n",
       "\n",
       "                                       URL Title Type  IMDb Rating  \\\n",
       "0    https://www.imdb.com/title/tt0111161/      movie          9.3   \n",
       "567  https://www.imdb.com/title/tt2397535/      movie          7.5   \n",
       "\n",
       "     Runtime (mins)  Year                            Genres  Num Votes  \\\n",
       "0             142.0  1994                             Drama    2034334   \n",
       "567            97.0  2014  Drama, Mystery, Sci-Fi, Thriller     218780   \n",
       "\n",
       "    Release Date                       Directors  \n",
       "0     1994-09-10                  Frank Darabont  \n",
       "567   2014-03-08  Michael Spierig, Peter Spierig  "
      ]
     },
     "execution_count": 8,
     "metadata": {},
     "output_type": "execute_result"
    }
   ],
   "source": [
    "my_ratings.iloc[[0, -1]]"
   ]
  },
  {
   "cell_type": "code",
   "execution_count": 9,
   "metadata": {
    "scrolled": true
   },
   "outputs": [
    {
     "data": {
      "text/html": [
       "<div>\n",
       "<style scoped>\n",
       "    .dataframe tbody tr th:only-of-type {\n",
       "        vertical-align: middle;\n",
       "    }\n",
       "\n",
       "    .dataframe tbody tr th {\n",
       "        vertical-align: top;\n",
       "    }\n",
       "\n",
       "    .dataframe thead th {\n",
       "        text-align: right;\n",
       "    }\n",
       "</style>\n",
       "<table border=\"1\" class=\"dataframe\">\n",
       "  <thead>\n",
       "    <tr style=\"text-align: right;\">\n",
       "      <th></th>\n",
       "      <th>Your Rating</th>\n",
       "      <th>IMDb Rating</th>\n",
       "      <th>Runtime (mins)</th>\n",
       "      <th>Year</th>\n",
       "      <th>Num Votes</th>\n",
       "    </tr>\n",
       "  </thead>\n",
       "  <tbody>\n",
       "    <tr>\n",
       "      <th>count</th>\n",
       "      <td>568.0</td>\n",
       "      <td>568.0</td>\n",
       "      <td>565.0</td>\n",
       "      <td>568.0</td>\n",
       "      <td>568.0</td>\n",
       "    </tr>\n",
       "    <tr>\n",
       "      <th>mean</th>\n",
       "      <td>8.0</td>\n",
       "      <td>7.6</td>\n",
       "      <td>109.4</td>\n",
       "      <td>2002.2</td>\n",
       "      <td>323541.1</td>\n",
       "    </tr>\n",
       "    <tr>\n",
       "      <th>std</th>\n",
       "      <td>1.9</td>\n",
       "      <td>0.9</td>\n",
       "      <td>37.7</td>\n",
       "      <td>10.3</td>\n",
       "      <td>332702.2</td>\n",
       "    </tr>\n",
       "    <tr>\n",
       "      <th>min</th>\n",
       "      <td>1.0</td>\n",
       "      <td>1.6</td>\n",
       "      <td>8.0</td>\n",
       "      <td>1942.0</td>\n",
       "      <td>13.0</td>\n",
       "    </tr>\n",
       "    <tr>\n",
       "      <th>25%</th>\n",
       "      <td>7.0</td>\n",
       "      <td>7.1</td>\n",
       "      <td>96.0</td>\n",
       "      <td>1999.8</td>\n",
       "      <td>84620.5</td>\n",
       "    </tr>\n",
       "    <tr>\n",
       "      <th>50%</th>\n",
       "      <td>8.0</td>\n",
       "      <td>7.7</td>\n",
       "      <td>108.0</td>\n",
       "      <td>2005.0</td>\n",
       "      <td>215472.0</td>\n",
       "    </tr>\n",
       "    <tr>\n",
       "      <th>75%</th>\n",
       "      <td>10.0</td>\n",
       "      <td>8.1</td>\n",
       "      <td>125.0</td>\n",
       "      <td>2008.0</td>\n",
       "      <td>454300.2</td>\n",
       "    </tr>\n",
       "    <tr>\n",
       "      <th>max</th>\n",
       "      <td>10.0</td>\n",
       "      <td>9.5</td>\n",
       "      <td>533.0</td>\n",
       "      <td>2014.0</td>\n",
       "      <td>2034334.0</td>\n",
       "    </tr>\n",
       "  </tbody>\n",
       "</table>\n",
       "</div>"
      ],
      "text/plain": [
       "       Your Rating  IMDb Rating  Runtime (mins)    Year  Num Votes\n",
       "count        568.0        568.0           565.0   568.0      568.0\n",
       "mean           8.0          7.6           109.4  2002.2   323541.1\n",
       "std            1.9          0.9            37.7    10.3   332702.2\n",
       "min            1.0          1.6             8.0  1942.0       13.0\n",
       "25%            7.0          7.1            96.0  1999.8    84620.5\n",
       "50%            8.0          7.7           108.0  2005.0   215472.0\n",
       "75%           10.0          8.1           125.0  2008.0   454300.2\n",
       "max           10.0          9.5           533.0  2014.0  2034334.0"
      ]
     },
     "execution_count": 9,
     "metadata": {},
     "output_type": "execute_result"
    }
   ],
   "source": [
    "my_ratings.describe().round(decimals=1)"
   ]
  },
  {
   "cell_type": "markdown",
   "metadata": {},
   "source": [
    "### Format my_ratings"
   ]
  },
  {
   "cell_type": "markdown",
   "metadata": {},
   "source": [
    "#### Add userId, rating, timestamp and imdbId to my_ratings"
   ]
  },
  {
   "cell_type": "code",
   "execution_count": 10,
   "metadata": {},
   "outputs": [
    {
     "data": {
      "text/html": [
       "<div>\n",
       "<style scoped>\n",
       "    .dataframe tbody tr th:only-of-type {\n",
       "        vertical-align: middle;\n",
       "    }\n",
       "\n",
       "    .dataframe tbody tr th {\n",
       "        vertical-align: top;\n",
       "    }\n",
       "\n",
       "    .dataframe thead th {\n",
       "        text-align: right;\n",
       "    }\n",
       "</style>\n",
       "<table border=\"1\" class=\"dataframe\">\n",
       "  <thead>\n",
       "    <tr style=\"text-align: right;\">\n",
       "      <th></th>\n",
       "      <th>Const</th>\n",
       "      <th>Your Rating</th>\n",
       "      <th>Date Rated</th>\n",
       "      <th>Title</th>\n",
       "      <th>URL</th>\n",
       "      <th>Title Type</th>\n",
       "      <th>IMDb Rating</th>\n",
       "      <th>Runtime (mins)</th>\n",
       "      <th>Year</th>\n",
       "      <th>Genres</th>\n",
       "      <th>Num Votes</th>\n",
       "      <th>Release Date</th>\n",
       "      <th>Directors</th>\n",
       "      <th>userId</th>\n",
       "      <th>rating</th>\n",
       "      <th>timestamp</th>\n",
       "      <th>imdbId</th>\n",
       "    </tr>\n",
       "  </thead>\n",
       "  <tbody>\n",
       "    <tr>\n",
       "      <th>0</th>\n",
       "      <td>tt0111161</td>\n",
       "      <td>10</td>\n",
       "      <td>2007-08-12</td>\n",
       "      <td>The Shawshank Redemption</td>\n",
       "      <td>https://www.imdb.com/title/tt0111161/</td>\n",
       "      <td>movie</td>\n",
       "      <td>9.3</td>\n",
       "      <td>142.0</td>\n",
       "      <td>1994</td>\n",
       "      <td>Drama</td>\n",
       "      <td>2034334</td>\n",
       "      <td>1994-09-10</td>\n",
       "      <td>Frank Darabont</td>\n",
       "      <td>138494</td>\n",
       "      <td>5.0</td>\n",
       "      <td>1186876800</td>\n",
       "      <td>111161</td>\n",
       "    </tr>\n",
       "    <tr>\n",
       "      <th>567</th>\n",
       "      <td>tt2397535</td>\n",
       "      <td>10</td>\n",
       "      <td>2015-11-28</td>\n",
       "      <td>Predestination</td>\n",
       "      <td>https://www.imdb.com/title/tt2397535/</td>\n",
       "      <td>movie</td>\n",
       "      <td>7.5</td>\n",
       "      <td>97.0</td>\n",
       "      <td>2014</td>\n",
       "      <td>Drama, Mystery, Sci-Fi, Thriller</td>\n",
       "      <td>218780</td>\n",
       "      <td>2014-03-08</td>\n",
       "      <td>Michael Spierig, Peter Spierig</td>\n",
       "      <td>138494</td>\n",
       "      <td>5.0</td>\n",
       "      <td>1448668800</td>\n",
       "      <td>2397535</td>\n",
       "    </tr>\n",
       "  </tbody>\n",
       "</table>\n",
       "</div>"
      ],
      "text/plain": [
       "         Const  Your Rating  Date Rated                     Title  \\\n",
       "0    tt0111161           10  2007-08-12  The Shawshank Redemption   \n",
       "567  tt2397535           10  2015-11-28            Predestination   \n",
       "\n",
       "                                       URL Title Type  IMDb Rating  \\\n",
       "0    https://www.imdb.com/title/tt0111161/      movie          9.3   \n",
       "567  https://www.imdb.com/title/tt2397535/      movie          7.5   \n",
       "\n",
       "     Runtime (mins)  Year                            Genres  Num Votes  \\\n",
       "0             142.0  1994                             Drama    2034334   \n",
       "567            97.0  2014  Drama, Mystery, Sci-Fi, Thriller     218780   \n",
       "\n",
       "    Release Date                       Directors  userId  rating   timestamp  \\\n",
       "0     1994-09-10                  Frank Darabont  138494     5.0  1186876800   \n",
       "567   2014-03-08  Michael Spierig, Peter Spierig  138494     5.0  1448668800   \n",
       "\n",
       "      imdbId  \n",
       "0     111161  \n",
       "567  2397535  "
      ]
     },
     "execution_count": 10,
     "metadata": {},
     "output_type": "execute_result"
    }
   ],
   "source": [
    "my_ratings['userId'] = max(ratings['userId']) + 1\n",
    "my_ratings['rating'] = my_ratings['Your Rating'] / 2\n",
    "my_ratings['timestamp'] = my_ratings['Date Rated'].astype('datetime64[ns]').astype('int64')//1000000000\n",
    "my_ratings['imdbId'] = my_ratings['Const'].apply(lambda x: x[2:]).map(int)\n",
    "my_ratings.iloc[[0, -1]]"
   ]
  },
  {
   "cell_type": "markdown",
   "metadata": {},
   "source": [
    "#### Merge my_ratings with links and select only necessary columns"
   ]
  },
  {
   "cell_type": "code",
   "execution_count": 11,
   "metadata": {
    "scrolled": true
   },
   "outputs": [
    {
     "data": {
      "text/html": [
       "<div>\n",
       "<style scoped>\n",
       "    .dataframe tbody tr th:only-of-type {\n",
       "        vertical-align: middle;\n",
       "    }\n",
       "\n",
       "    .dataframe tbody tr th {\n",
       "        vertical-align: top;\n",
       "    }\n",
       "\n",
       "    .dataframe thead th {\n",
       "        text-align: right;\n",
       "    }\n",
       "</style>\n",
       "<table border=\"1\" class=\"dataframe\">\n",
       "  <thead>\n",
       "    <tr style=\"text-align: right;\">\n",
       "      <th></th>\n",
       "      <th>userId</th>\n",
       "      <th>movieId</th>\n",
       "      <th>rating</th>\n",
       "      <th>timestamp</th>\n",
       "    </tr>\n",
       "  </thead>\n",
       "  <tbody>\n",
       "    <tr>\n",
       "      <th>495</th>\n",
       "      <td>138494</td>\n",
       "      <td>77800</td>\n",
       "      <td>5.0</td>\n",
       "      <td>1448496000</td>\n",
       "    </tr>\n",
       "    <tr>\n",
       "      <th>496</th>\n",
       "      <td>138494</td>\n",
       "      <td>114935</td>\n",
       "      <td>5.0</td>\n",
       "      <td>1448668800</td>\n",
       "    </tr>\n",
       "  </tbody>\n",
       "</table>\n",
       "</div>"
      ],
      "text/plain": [
       "     userId  movieId  rating   timestamp\n",
       "495  138494    77800     5.0  1448496000\n",
       "496  138494   114935     5.0  1448668800"
      ]
     },
     "execution_count": 11,
     "metadata": {},
     "output_type": "execute_result"
    }
   ],
   "source": [
    "my_movies = my_ratings.merge(links, on='imdbId')[['userId', 'movieId', 'rating', 'timestamp']]\n",
    "my_movies.tail(2)"
   ]
  },
  {
   "cell_type": "markdown",
   "metadata": {},
   "source": [
    "#### Concat my ratings with all ratings"
   ]
  },
  {
   "cell_type": "code",
   "execution_count": 12,
   "metadata": {
    "scrolled": true
   },
   "outputs": [
    {
     "data": {
      "text/html": [
       "<div>\n",
       "<style scoped>\n",
       "    .dataframe tbody tr th:only-of-type {\n",
       "        vertical-align: middle;\n",
       "    }\n",
       "\n",
       "    .dataframe tbody tr th {\n",
       "        vertical-align: top;\n",
       "    }\n",
       "\n",
       "    .dataframe thead th {\n",
       "        text-align: right;\n",
       "    }\n",
       "</style>\n",
       "<table border=\"1\" class=\"dataframe\">\n",
       "  <thead>\n",
       "    <tr style=\"text-align: right;\">\n",
       "      <th></th>\n",
       "      <th>userId</th>\n",
       "      <th>movieId</th>\n",
       "      <th>rating</th>\n",
       "      <th>timestamp</th>\n",
       "    </tr>\n",
       "  </thead>\n",
       "  <tbody>\n",
       "    <tr>\n",
       "      <th>20000758</th>\n",
       "      <td>138494</td>\n",
       "      <td>77800</td>\n",
       "      <td>5.0</td>\n",
       "      <td>1448496000</td>\n",
       "    </tr>\n",
       "    <tr>\n",
       "      <th>20000759</th>\n",
       "      <td>138494</td>\n",
       "      <td>114935</td>\n",
       "      <td>5.0</td>\n",
       "      <td>1448668800</td>\n",
       "    </tr>\n",
       "  </tbody>\n",
       "</table>\n",
       "</div>"
      ],
      "text/plain": [
       "          userId  movieId  rating   timestamp\n",
       "20000758  138494    77800     5.0  1448496000\n",
       "20000759  138494   114935     5.0  1448668800"
      ]
     },
     "execution_count": 12,
     "metadata": {},
     "output_type": "execute_result"
    }
   ],
   "source": [
    "all_ratings = pd.concat([ratings, my_movies], ignore_index=True)\n",
    "all_ratings.tail(2)"
   ]
  },
  {
   "cell_type": "markdown",
   "metadata": {},
   "source": [
    "#### Merge titles"
   ]
  },
  {
   "cell_type": "code",
   "execution_count": 13,
   "metadata": {
    "scrolled": false
   },
   "outputs": [
    {
     "data": {
      "text/html": [
       "<div>\n",
       "<style scoped>\n",
       "    .dataframe tbody tr th:only-of-type {\n",
       "        vertical-align: middle;\n",
       "    }\n",
       "\n",
       "    .dataframe tbody tr th {\n",
       "        vertical-align: top;\n",
       "    }\n",
       "\n",
       "    .dataframe thead th {\n",
       "        text-align: right;\n",
       "    }\n",
       "</style>\n",
       "<table border=\"1\" class=\"dataframe\">\n",
       "  <thead>\n",
       "    <tr style=\"text-align: right;\">\n",
       "      <th></th>\n",
       "      <th>userId</th>\n",
       "      <th>movieId</th>\n",
       "      <th>rating</th>\n",
       "      <th>timestamp</th>\n",
       "      <th>title</th>\n",
       "    </tr>\n",
       "  </thead>\n",
       "  <tbody>\n",
       "    <tr>\n",
       "      <th>20000758</th>\n",
       "      <td>138494</td>\n",
       "      <td>77800</td>\n",
       "      <td>5.0</td>\n",
       "      <td>1448496000</td>\n",
       "      <td>Four Lions (2010)</td>\n",
       "    </tr>\n",
       "    <tr>\n",
       "      <th>20000759</th>\n",
       "      <td>138494</td>\n",
       "      <td>114935</td>\n",
       "      <td>5.0</td>\n",
       "      <td>1448668800</td>\n",
       "      <td>Predestination (2014)</td>\n",
       "    </tr>\n",
       "  </tbody>\n",
       "</table>\n",
       "</div>"
      ],
      "text/plain": [
       "          userId  movieId  rating   timestamp                  title\n",
       "20000758  138494    77800     5.0  1448496000      Four Lions (2010)\n",
       "20000759  138494   114935     5.0  1448668800  Predestination (2014)"
      ]
     },
     "execution_count": 13,
     "metadata": {},
     "output_type": "execute_result"
    }
   ],
   "source": [
    "all_ratings['order'] = all_ratings.index\n",
    "all_ratings = pd.merge(all_ratings, movies[['movieId', 'title']])\n",
    "all_ratings = all_ratings.sort_values('order')\n",
    "all_ratings = all_ratings.reset_index(drop=True)\n",
    "all_ratings = all_ratings.drop(columns='order')\n",
    "#all_ratings.to_csv(path + 'all_ratings.csv', index=False)\n",
    "\n",
    "all_ratings.tail(2)"
   ]
  },
  {
   "cell_type": "code",
   "execution_count": 14,
   "metadata": {},
   "outputs": [
    {
     "name": "stdout",
     "output_type": "stream",
     "text": [
      "Nr of missing values: 0\n"
     ]
    }
   ],
   "source": [
    "print(f'Nr of missing values: {movies.isnull().values.sum()}')"
   ]
  },
  {
   "cell_type": "code",
   "execution_count": 15,
   "metadata": {},
   "outputs": [],
   "source": [
    "my_user_id = all_ratings[-1:]['userId'].values[0]\n",
    "my_ratings = all_ratings[all_ratings.userId == my_user_id].copy()"
   ]
  },
  {
   "cell_type": "markdown",
   "metadata": {},
   "source": [
    "### Plot ratings"
   ]
  },
  {
   "cell_type": "code",
   "execution_count": 16,
   "metadata": {
    "scrolled": false
   },
   "outputs": [
    {
     "data": {
      "text/plain": [
       "<matplotlib.axes._subplots.AxesSubplot at 0x7f0a417c4780>"
      ]
     },
     "execution_count": 16,
     "metadata": {},
     "output_type": "execute_result"
    },
    {
     "data": {
      "image/png": "[encoded data removed]",
      "text/plain": [
       "<Figure size 432x288 with 1 Axes>"
      ]
     },
     "metadata": {
      "needs_background": "light"
     },
     "output_type": "display_data"
    }
   ],
   "source": [
    "ratings.rating.hist()"
   ]
  },
  {
   "cell_type": "markdown",
   "metadata": {},
   "source": [
    "#### x.5 ratings are used less frequently. Round them up and plot them with my ratings."
   ]
  },
  {
   "cell_type": "code",
   "execution_count": 17,
   "metadata": {},
   "outputs": [
    {
     "data": {
      "image/png": "[encoded data removed]",
      "text/plain": [
       "<Figure size 432x288 with 1 Axes>"
      ]
     },
     "metadata": {
      "needs_background": "light"
     },
     "output_type": "display_data"
    }
   ],
   "source": [
    "index = 5\n",
    "bar_width = 0.4\n",
    "\n",
    "bar_data = (ratings.rating + 0.5).astype(int).value_counts(normalize=True)\n",
    "x = bar_data.index.values - bar_width / 2\n",
    "\n",
    "my_bar_data = (my_ratings.rating + 0.5).astype(int).value_counts(normalize=True)\n",
    "my_x = my_bar_data.index.values + bar_width / 2\n",
    "\n",
    "fig, ax = plt.subplots()\n",
    "\n",
    "rects1 = ax.bar(x, bar_data, bar_width, color='tab:blue', label='All ratings')\n",
    "rects2 = ax.bar(my_x, my_bar_data, bar_width, color='tab:red', label='My ratings')\n",
    "\n",
    "ax.legend()\n",
    "\n",
    "fig.tight_layout()\n",
    "plt.show()"
   ]
  },
  {
   "cell_type": "markdown",
   "metadata": {},
   "source": [
    "### 500 most viewed movies"
   ]
  },
  {
   "cell_type": "code",
   "execution_count": 18,
   "metadata": {},
   "outputs": [
    {
     "data": {
      "text/html": [
       "<div>\n",
       "<style scoped>\n",
       "    .dataframe tbody tr th:only-of-type {\n",
       "        vertical-align: middle;\n",
       "    }\n",
       "\n",
       "    .dataframe tbody tr th {\n",
       "        vertical-align: top;\n",
       "    }\n",
       "\n",
       "    .dataframe thead th {\n",
       "        text-align: right;\n",
       "    }\n",
       "</style>\n",
       "<table border=\"1\" class=\"dataframe\">\n",
       "  <thead>\n",
       "    <tr style=\"text-align: right;\">\n",
       "      <th></th>\n",
       "      <th>movieId</th>\n",
       "      <th>title</th>\n",
       "      <th>genres</th>\n",
       "    </tr>\n",
       "  </thead>\n",
       "  <tbody>\n",
       "    <tr>\n",
       "      <th>0</th>\n",
       "      <td>296</td>\n",
       "      <td>Pulp Fiction (1994)</td>\n",
       "      <td>Comedy|Crime|Drama|Thriller</td>\n",
       "    </tr>\n",
       "    <tr>\n",
       "      <th>1</th>\n",
       "      <td>356</td>\n",
       "      <td>Forrest Gump (1994)</td>\n",
       "      <td>Comedy|Drama|Romance|War</td>\n",
       "    </tr>\n",
       "    <tr>\n",
       "      <th>2</th>\n",
       "      <td>318</td>\n",
       "      <td>Shawshank Redemption, The (1994)</td>\n",
       "      <td>Crime|Drama</td>\n",
       "    </tr>\n",
       "    <tr>\n",
       "      <th>3</th>\n",
       "      <td>593</td>\n",
       "      <td>Silence of the Lambs, The (1991)</td>\n",
       "      <td>Crime|Horror|Thriller</td>\n",
       "    </tr>\n",
       "    <tr>\n",
       "      <th>4</th>\n",
       "      <td>480</td>\n",
       "      <td>Jurassic Park (1993)</td>\n",
       "      <td>Action|Adventure|Sci-Fi|Thriller</td>\n",
       "    </tr>\n",
       "  </tbody>\n",
       "</table>\n",
       "</div>"
      ],
      "text/plain": [
       "   movieId                             title                            genres\n",
       "0      296               Pulp Fiction (1994)       Comedy|Crime|Drama|Thriller\n",
       "1      356               Forrest Gump (1994)          Comedy|Drama|Romance|War\n",
       "2      318  Shawshank Redemption, The (1994)                       Crime|Drama\n",
       "3      593  Silence of the Lambs, The (1991)             Crime|Horror|Thriller\n",
       "4      480              Jurassic Park (1993)  Action|Adventure|Sci-Fi|Thriller"
      ]
     },
     "execution_count": 18,
     "metadata": {},
     "output_type": "execute_result"
    }
   ],
   "source": [
    "top500 = ratings.groupby('movieId').count().sort_values('userId', ascending=False)[:500]\n",
    "idx = pd.Index(movies['movieId']).get_indexer(top500.index.values)\n",
    "top500 = movies.iloc[idx].reset_index(drop=True)\n",
    "top500.head()"
   ]
  },
  {
   "cell_type": "code",
   "execution_count": 19,
   "metadata": {},
   "outputs": [
    {
     "name": "stdout",
     "output_type": "stream",
     "text": [
      "I have seen 132 out of top 500\n"
     ]
    }
   ],
   "source": [
    "print(f'I have seen {sum(top500.movieId.isin(my_ratings.movieId))} out of top 500')"
   ]
  },
  {
   "cell_type": "markdown",
   "metadata": {},
   "source": [
    "### One Hot Encode movie genres"
   ]
  },
  {
   "cell_type": "code",
   "execution_count": 20,
   "metadata": {
    "scrolled": true
   },
   "outputs": [
    {
     "data": {
      "text/html": [
       "<div>\n",
       "<style scoped>\n",
       "    .dataframe tbody tr th:only-of-type {\n",
       "        vertical-align: middle;\n",
       "    }\n",
       "\n",
       "    .dataframe tbody tr th {\n",
       "        vertical-align: top;\n",
       "    }\n",
       "\n",
       "    .dataframe thead th {\n",
       "        text-align: right;\n",
       "    }\n",
       "</style>\n",
       "<table border=\"1\" class=\"dataframe\">\n",
       "  <thead>\n",
       "    <tr style=\"text-align: right;\">\n",
       "      <th></th>\n",
       "      <th>movieId</th>\n",
       "      <th>title</th>\n",
       "      <th>genres</th>\n",
       "      <th>rating</th>\n",
       "      <th>Adventure</th>\n",
       "      <th>Animation</th>\n",
       "      <th>Children</th>\n",
       "      <th>Comedy</th>\n",
       "      <th>Fantasy</th>\n",
       "      <th>Action</th>\n",
       "      <th>...</th>\n",
       "      <th>Romance</th>\n",
       "      <th>Mystery</th>\n",
       "      <th>War</th>\n",
       "      <th>Sci-Fi</th>\n",
       "      <th>Film-Noir</th>\n",
       "      <th>Musical</th>\n",
       "      <th>IMAX</th>\n",
       "      <th>Western</th>\n",
       "      <th>Horror</th>\n",
       "      <th>Documentary</th>\n",
       "    </tr>\n",
       "  </thead>\n",
       "  <tbody>\n",
       "    <tr>\n",
       "      <th>0</th>\n",
       "      <td>1</td>\n",
       "      <td>Toy Story (1995)</td>\n",
       "      <td>Adventure|Animation|Children|Comedy|Fantasy</td>\n",
       "      <td>4.5</td>\n",
       "      <td>True</td>\n",
       "      <td>True</td>\n",
       "      <td>True</td>\n",
       "      <td>True</td>\n",
       "      <td>True</td>\n",
       "      <td>False</td>\n",
       "      <td>...</td>\n",
       "      <td>False</td>\n",
       "      <td>False</td>\n",
       "      <td>False</td>\n",
       "      <td>False</td>\n",
       "      <td>False</td>\n",
       "      <td>False</td>\n",
       "      <td>False</td>\n",
       "      <td>False</td>\n",
       "      <td>False</td>\n",
       "      <td>False</td>\n",
       "    </tr>\n",
       "    <tr>\n",
       "      <th>5</th>\n",
       "      <td>6</td>\n",
       "      <td>Heat (1995)</td>\n",
       "      <td>Action|Crime|Thriller</td>\n",
       "      <td>4.0</td>\n",
       "      <td>False</td>\n",
       "      <td>False</td>\n",
       "      <td>False</td>\n",
       "      <td>False</td>\n",
       "      <td>False</td>\n",
       "      <td>True</td>\n",
       "      <td>...</td>\n",
       "      <td>False</td>\n",
       "      <td>False</td>\n",
       "      <td>False</td>\n",
       "      <td>False</td>\n",
       "      <td>False</td>\n",
       "      <td>False</td>\n",
       "      <td>False</td>\n",
       "      <td>False</td>\n",
       "      <td>False</td>\n",
       "      <td>False</td>\n",
       "    </tr>\n",
       "  </tbody>\n",
       "</table>\n",
       "<p>2 rows × 23 columns</p>\n",
       "</div>"
      ],
      "text/plain": [
       "   movieId             title                                       genres  \\\n",
       "0        1  Toy Story (1995)  Adventure|Animation|Children|Comedy|Fantasy   \n",
       "5        6       Heat (1995)                        Action|Crime|Thriller   \n",
       "\n",
       "   rating  Adventure  Animation  Children  Comedy  Fantasy  Action  \\\n",
       "0     4.5       True       True      True    True     True   False   \n",
       "5     4.0      False      False     False   False    False    True   \n",
       "\n",
       "      ...       Romance  Mystery    War  Sci-Fi  Film-Noir  Musical   IMAX  \\\n",
       "0     ...         False    False  False   False      False    False  False   \n",
       "5     ...         False    False  False   False      False    False  False   \n",
       "\n",
       "   Western  Horror  Documentary  \n",
       "0    False   False        False  \n",
       "5    False   False        False  \n",
       "\n",
       "[2 rows x 23 columns]"
      ]
     },
     "execution_count": 20,
     "metadata": {},
     "output_type": "execute_result"
    }
   ],
   "source": [
    "top_ohe = top500.copy()\n",
    "my_ohe = movies[movies.movieId.isin(my_ratings.movieId.values)].copy()\n",
    "\n",
    "for i in top_ohe.index:\n",
    "    raw = top_ohe.loc[i, 'genres']\n",
    "    multy = raw.split('|')\n",
    "    for w in multy:\n",
    "        top_ohe.loc[i, w] = True\n",
    "\n",
    "for i in my_ohe.index:\n",
    "    # Set ratings\n",
    "    movie_id = my_ohe.loc[i, 'movieId']\n",
    "    rating = my_ratings[(my_ratings['movieId'] == movie_id) & (my_ratings['userId'] == my_user_id)]\n",
    "    my_ohe.loc[i, 'rating'] = rating['rating'].values[0]\n",
    "    \n",
    "    raw = my_ohe.loc[i, 'genres']\n",
    "    multy = raw.split('|')\n",
    "    for w in multy:\n",
    "        my_ohe.loc[i, w] = True\n",
    "\n",
    "\n",
    "top_ohe.fillna(False, inplace=True)\n",
    "my_ohe.fillna(False, inplace=True)\n",
    "\n",
    "my_ohe.head(2)"
   ]
  },
  {
   "cell_type": "markdown",
   "metadata": {},
   "source": [
    "### Find most frequent genres"
   ]
  },
  {
   "cell_type": "code",
   "execution_count": 21,
   "metadata": {},
   "outputs": [],
   "source": [
    "genres = sorted(list(top_ohe.columns[3:]), reverse=True)\n",
    "n_groups = len(genres)\n",
    "\n",
    "top_count = [sum(top_ohe[g]) for g in genres]"
   ]
  },
  {
   "cell_type": "code",
   "execution_count": 22,
   "metadata": {
    "scrolled": true
   },
   "outputs": [
    {
     "name": "stdout",
     "output_type": "stream",
     "text": [
      "Good movie % =  45\n",
      "Normal movie % = 50\n",
      "Bad movie % = 5\n"
     ]
    }
   ],
   "source": [
    "good = my_ohe[my_ohe['rating'] > 4]\n",
    "normal = my_ohe[(my_ohe['rating'] <= 4) & (my_ohe['rating'] > 2)]\n",
    "bad = my_ohe[my_ohe['rating'] <= 2]\n",
    "\n",
    "print('Good movie % = ', round(len(good) * 100 / len(my_ratings)))\n",
    "print('Normal movie % =', round(len(normal) * 100 / len(my_ratings)))\n",
    "print('Bad movie % =', round(len(bad) * 100 / len(my_ratings)))\n",
    "\n",
    "my_count_good = [sum(good[g]) for g in genres]\n",
    "my_count_normal = [sum(normal[g]) for g in genres]\n",
    "my_count_bad = [sum(bad[g]) for g in genres]\n",
    "my_count_not_good = [my_count_normal[i] + my_count_bad[i] for i in range(len(genres))]"
   ]
  },
  {
   "cell_type": "markdown",
   "metadata": {},
   "source": [
    "### Plot genre frequencies"
   ]
  },
  {
   "cell_type": "code",
   "execution_count": 23,
   "metadata": {},
   "outputs": [
    {
     "data": {
      "image/png": "[encoded data removed]",
      "text/plain": [
       "<Figure size 576x576 with 1 Axes>"
      ]
     },
     "metadata": {
      "needs_background": "light"
     },
     "output_type": "display_data"
    }
   ],
   "source": [
    "fig, ax = plt.subplots(figsize=(8, 8))\n",
    "\n",
    "index = np.arange(n_groups)\n",
    "bar_width = 0.4\n",
    "\n",
    "r0 = ax.barh(index + bar_width / 2, top_count, bar_width, color='tab:blue', label='Top 500')\n",
    "r1 = ax.barh(index - bar_width / 2, my_count_bad, bar_width, color='tab:red', label='My ratings bad')\n",
    "r2 = ax.barh(index - bar_width / 2, my_count_normal, bar_width, left=my_count_bad, color='gold', label='My ratings normal')\n",
    "r3 = ax.barh(index - bar_width / 2, my_count_good, bar_width, left=my_count_not_good, color='tab:green', label='My ratings good')\n",
    "\n",
    "ax.set_yticks(np.arange(len(genres)))\n",
    "ax.set_yticklabels(genres)\n",
    "ax.tick_params(labeltop=True, labelright=False)\n",
    "ax.legend()\n",
    "\n",
    "fig.tight_layout()\n",
    "plt.show()"
   ]
  },
  {
   "cell_type": "markdown",
   "metadata": {},
   "source": [
    "#### Avoid Film-Noir and try War\n",
    "Film-Noir definition: a style or genre of cinematographic film marked by a mood of pessimism, fatalism, and menace. \n",
    "\n"
   ]
  },
  {
   "cell_type": "markdown",
   "metadata": {},
   "source": [
    "### Plot movie age\n",
    "movie_age = 0 means that the movie release year is same as year rated timestamp"
   ]
  },
  {
   "cell_type": "code",
   "execution_count": 24,
   "metadata": {
    "scrolled": true
   },
   "outputs": [
    {
     "data": {
      "text/html": [
       "<div>\n",
       "<style scoped>\n",
       "    .dataframe tbody tr th:only-of-type {\n",
       "        vertical-align: middle;\n",
       "    }\n",
       "\n",
       "    .dataframe tbody tr th {\n",
       "        vertical-align: top;\n",
       "    }\n",
       "\n",
       "    .dataframe thead th {\n",
       "        text-align: right;\n",
       "    }\n",
       "</style>\n",
       "<table border=\"1\" class=\"dataframe\">\n",
       "  <thead>\n",
       "    <tr style=\"text-align: right;\">\n",
       "      <th></th>\n",
       "      <th>userId</th>\n",
       "      <th>movieId</th>\n",
       "      <th>rating</th>\n",
       "      <th>timestamp</th>\n",
       "      <th>title</th>\n",
       "      <th>year</th>\n",
       "      <th>movie_age</th>\n",
       "    </tr>\n",
       "  </thead>\n",
       "  <tbody>\n",
       "    <tr>\n",
       "      <th>20000263</th>\n",
       "      <td>138494</td>\n",
       "      <td>318</td>\n",
       "      <td>5.0</td>\n",
       "      <td>1186876800</td>\n",
       "      <td>Shawshank Redemption, The (1994)</td>\n",
       "      <td>1994</td>\n",
       "      <td>13</td>\n",
       "    </tr>\n",
       "    <tr>\n",
       "      <th>20000264</th>\n",
       "      <td>138494</td>\n",
       "      <td>58554</td>\n",
       "      <td>5.0</td>\n",
       "      <td>1187740800</td>\n",
       "      <td>Class, The (Klass) (2007)</td>\n",
       "      <td>2007</td>\n",
       "      <td>0</td>\n",
       "    </tr>\n",
       "  </tbody>\n",
       "</table>\n",
       "</div>"
      ],
      "text/plain": [
       "          userId  movieId  rating   timestamp  \\\n",
       "20000263  138494      318     5.0  1186876800   \n",
       "20000264  138494    58554     5.0  1187740800   \n",
       "\n",
       "                                     title  year  movie_age  \n",
       "20000263  Shawshank Redemption, The (1994)  1994         13  \n",
       "20000264         Class, The (Klass) (2007)  2007          0  "
      ]
     },
     "execution_count": 24,
     "metadata": {},
     "output_type": "execute_result"
    }
   ],
   "source": [
    "my_ratings.loc[:,'year'] = my_ratings.title.str[-5:-1]\n",
    "date_rated = (my_ratings['timestamp']*1000000000).astype('datetime64[ns]')\n",
    "year_rated = date_rated.astype('str').str[:4].astype(int)\n",
    "my_ratings.loc[:, 'movie_age'] = year_rated - my_ratings.year.astype(int)\n",
    "\n",
    "my_ratings.head(2)"
   ]
  },
  {
   "cell_type": "code",
   "execution_count": 25,
   "metadata": {},
   "outputs": [
    {
     "data": {
      "image/png": "[encoded data removed]",
      "text/plain": [
       "<Figure size 432x288 with 2 Axes>"
      ]
     },
     "metadata": {
      "needs_background": "light"
     },
     "output_type": "display_data"
    }
   ],
   "source": [
    "# Data for plotting\n",
    "range_year = range(17)\n",
    "rating_year = [round(my_ratings[my_ratings.movie_age == i].rating.mean() * 2, 2) for i in range_year]\n",
    "views_year = [my_ratings[my_ratings.movie_age == i].rating.count() for i in range_year]\n",
    "\n",
    "fig, ax1 = plt.subplots()\n",
    "\n",
    "color = 'tab:red'\n",
    "ax1.set_xlabel('Movie age when rated')\n",
    "ax1.set_ylabel('Average rating', color=color)\n",
    "ax1.plot(range_year, rating_year, color=color)\n",
    "ax1.tick_params(axis='y', labelcolor=color)\n",
    "\n",
    "# instantiate a second axes that shares the same x-axis\n",
    "ax2 = ax1.twinx()  \n",
    "\n",
    "color = 'tab:blue'\n",
    "ax2.set_ylabel('Nr of movies rated', color=color)  \n",
    "ax2.plot(range_year, views_year, color=color)\n",
    "ax2.tick_params(axis='y', labelcolor=color)\n",
    "\n",
    "# otherwise the right y-label is slightly clipped\n",
    "fig.tight_layout()\n",
    "plt.show()"
   ]
  },
  {
   "cell_type": "markdown",
   "metadata": {},
   "source": [
    "### Collaborative filtering"
   ]
  },
  {
   "cell_type": "code",
   "execution_count": null,
   "metadata": {},
   "outputs": [],
   "source": [
    "data = CollabDataBunch.from_df(all_ratings, seed=1, item_name='title')\n",
    "data.show_batch(2)"
   ]
  },
  {
   "cell_type": "code",
   "execution_count": null,
   "metadata": {},
   "outputs": [],
   "source": [
    "learn = collab_learner(data, n_factors=50, y_range=(0.,5.))"
   ]
  },
  {
   "cell_type": "code",
   "execution_count": null,
   "metadata": {},
   "outputs": [],
   "source": [
    "learn.fit_one_cycle(1, 5e-3, wd=0.1)"
   ]
  },
  {
   "cell_type": "code",
   "execution_count": null,
   "metadata": {},
   "outputs": [],
   "source": [
    "learn.save('20m_dotprod')\n",
    "#learn.load('dotprod')"
   ]
  },
  {
   "cell_type": "markdown",
   "metadata": {},
   "source": [
    "### Interpretation"
   ]
  },
  {
   "cell_type": "code",
   "execution_count": null,
   "metadata": {},
   "outputs": [],
   "source": [
    "learn.model"
   ]
  },
  {
   "cell_type": "markdown",
   "metadata": {},
   "source": [
    "#### Movie mean rating"
   ]
  },
  {
   "cell_type": "code",
   "execution_count": null,
   "metadata": {},
   "outputs": [],
   "source": [
    "means = all_ratings.groupby('title')['rating'].mean().round(2)\n",
    "means.head()"
   ]
  },
  {
   "cell_type": "markdown",
   "metadata": {},
   "source": [
    "#### Movie Bias"
   ]
  },
  {
   "cell_type": "code",
   "execution_count": null,
   "metadata": {
    "scrolled": true
   },
   "outputs": [],
   "source": [
    "movie_bias = learn.bias(top_movies, is_item=True)"
   ]
  },
  {
   "cell_type": "code",
   "execution_count": null,
   "metadata": {
    "scrolled": true
   },
   "outputs": [],
   "source": [
    "stats = [(i, means[i], np.round(e.item(), decimals=2)) for i, e in zip(top_movies, movie_bias)]\n",
    "print('title, mean ratings, bias')\n",
    "stats[:5]"
   ]
  },
  {
   "cell_type": "code",
   "execution_count": null,
   "metadata": {},
   "outputs": [],
   "source": []
  }
 ],
 "metadata": {
  "kernelspec": {
   "display_name": "Python 3",
   "language": "python",
   "name": "python3"
  },
  "language_info": {
   "codemirror_mode": {
    "name": "ipython",
    "version": 3
   },
   "file_extension": ".py",
   "mimetype": "text/x-python",
   "name": "python",
   "nbconvert_exporter": "python",
   "pygments_lexer": "ipython3",
   "version": "3.6.6"
  }
 },
 "nbformat": 4,
 "nbformat_minor": 2
}
