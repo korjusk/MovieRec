{
 "cells": [
  {
   "cell_type": "code",
   "execution_count": null,
   "metadata": {
    "scrolled": true
   },
   "outputs": [],
   "source": [
    "import numpy as np\n",
    "import matplotlib.pyplot as plt\n",
    "from random import shuffle\n",
    "\n",
    "green = plt.imread('images/green.png')\n",
    "yellow = plt.imread('images/yellow.png')\n",
    "red = plt.imread('images/red.png')\n",
    "\n",
    "def choose_image(label):\n",
    "    if label == 1:\n",
    "        return green\n",
    "    elif label == 0:\n",
    "        return yellow\n",
    "    else:\n",
    "        return red\n",
    "\n",
    "def get_image(labels):\n",
    "    image = choose_image(labels[0])\n",
    "\n",
    "    for i in range(1, len(labels)):\n",
    "        image = np.hstack((image, choose_image(labels[i])))\n",
    "\n",
    "    return image\n",
    "\n",
    "labels = [-100] * 5 # bad\n",
    "labels.extend([0] * 50)\n",
    "labels.extend([1] * 45) # good\n",
    "\n",
    "plt.imsave('ideal.png', get_image(l))\n",
    "\n",
    "shuffle(l)\n",
    "plt.imsave('random.png', get_image(l))"
   ]
  },
  {
   "cell_type": "code",
   "execution_count": null,
   "metadata": {},
   "outputs": [],
   "source": [
    "success = 0\n",
    "total = 100000\n",
    "\n",
    "for i in range(total):\n",
    "    shuffle(labels)\n",
    "    if sum(labels[:10]) > 7:\n",
    "        success += 1\n",
    "\n",
    "print(success/total*100)"
   ]
  }
 ],
 "metadata": {
  "kernelspec": {
   "display_name": "Python 3",
   "language": "python",
   "name": "python3"
  },
  "language_info": {
   "codemirror_mode": {
    "name": "ipython",
    "version": 3
   },
   "file_extension": ".py",
   "mimetype": "text/x-python",
   "name": "python",
   "nbconvert_exporter": "python",
   "pygments_lexer": "ipython3",
   "version": "3.6.6"
  }
 },
 "nbformat": 4,
 "nbformat_minor": 2
}
