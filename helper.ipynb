{
 "cells": [
  {
   "cell_type": "code",
   "execution_count": 1,
   "metadata": {},
   "outputs": [],
   "source": [
    "import numpy as np\n",
    "import matplotlib.pyplot as plt\n",
    "from random import shuffle"
   ]
  },
  {
   "cell_type": "code",
   "execution_count": 2,
   "metadata": {},
   "outputs": [],
   "source": [
    "green = plt.imread('images/green.png')\n",
    "yellow = plt.imread('images/yellow.png')\n",
    "red = plt.imread('images/red.png')\n",
    "white_space = np.ones(shape=(8, 4, 3))"
   ]
  },
  {
   "cell_type": "code",
   "execution_count": 3,
   "metadata": {},
   "outputs": [],
   "source": [
    "def get_odds(times):\n",
    "    labels = [-100] * 5 # bad\n",
    "    labels.extend([0] * 50)\n",
    "    labels.extend([1] * 45) # good\n",
    "    \n",
    "    success = 0\n",
    "\n",
    "    for i in range(times):\n",
    "        shuffle(labels)\n",
    "        if sum(labels[:10]) > 7:\n",
    "            success += 1\n",
    "\n",
    "    return success/times*100\n",
    "\n",
    "#print(get_odds(100000))"
   ]
  },
  {
   "cell_type": "code",
   "execution_count": 4,
   "metadata": {},
   "outputs": [],
   "source": [
    "def choose_image(label):\n",
    "    if label > 8:\n",
    "        return green\n",
    "    elif label <= 4:\n",
    "        return red\n",
    "    else:\n",
    "        return yellow\n",
    "\n",
    "def get_image(labels):\n",
    "    image = choose_image(labels[0])\n",
    "\n",
    "    for i in range(1, len(labels)):\n",
    "        image = np.hstack((image, choose_image(labels[i])))\n",
    "        \n",
    "        if i == 89:\n",
    "            image = np.hstack((image, white_space))\n",
    "\n",
    "    return image"
   ]
  },
  {
   "cell_type": "code",
   "execution_count": 5,
   "metadata": {
    "scrolled": false
   },
   "outputs": [],
   "source": [
    "def get_test():\n",
    "    my_df = pd.read_csv('data/my_ratings.csv', encoding='latin-1')\n",
    "    my_df = my_df[my_df['Title Type'] == 'movie']\n",
    "    my_df = my_df.sample(frac=1).reset_index(drop=True)\n",
    "\n",
    "    good_idx = my_df[my_df['Your Rating'] > 8].index.values\n",
    "    normal_idx = my_df[(my_df['Your Rating'] <= 8) & (my_df['Your Rating'] > 4)].index.values\n",
    "    bad_idx = my_df[my_df['Your Rating'] <= 4].index.values\n",
    "\n",
    "    test_idx = np.append(good_idx[:45], normal_idx[:50])\n",
    "    test_idx = np.append(test_idx, bad_idx[:5])\n",
    "\n",
    "    #test_df = my_df.iloc[test_idx].sort_values('Your Rating') # Ideal\n",
    "    #test_df = my_df.iloc[test_idx].sample(frac=1) # Random\n",
    "    test_df = my_df.iloc[test_idx].sort_values('IMDb Rating')\n",
    "    \n",
    "    test_df = test_df.reset_index(drop=True)\n",
    "    #print(test_df[['Title', 'IMDb Rating', 'Your Rating']])\n",
    "    return test_df['Your Rating'].values\n",
    "\n",
    "#plt.imsave('images/list_.png', get_image(get_test()))"
   ]
  },
  {
   "cell_type": "code",
   "execution_count": null,
   "metadata": {},
   "outputs": [],
   "source": [
    "def df_to_markdown(df):\n",
    "    fmt = ['---' for i in range(len(df.columns))]\n",
    "    df_fmt = pd.DataFrame([fmt], columns=df.columns)\n",
    "    df_formatted = pd.concat([df_fmt, df])\n",
    "    print(df_formatted.to_csv(sep=\"|\", index=False))"
   ]
  }
 ],
 "metadata": {
  "kernelspec": {
   "display_name": "Python 3",
   "language": "python",
   "name": "python3"
  },
  "language_info": {
   "codemirror_mode": {
    "name": "ipython",
    "version": 3
   },
   "file_extension": ".py",
   "mimetype": "text/x-python",
   "name": "python",
   "nbconvert_exporter": "python",
   "pygments_lexer": "ipython3",
   "version": "3.6.6"
  }
 },
 "nbformat": 4,
 "nbformat_minor": 2
}
